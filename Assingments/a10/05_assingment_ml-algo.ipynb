{
 "cells": [
  {
   "cell_type": "markdown",
   "id": "b707aaa6-62dd-4db4-b6ae-f03e1567ce63",
   "metadata": {},
   "source": [
    "# Linear regression"
   ]
  },
  {
   "cell_type": "code",
   "execution_count": 1,
   "id": "7853e890-dd2c-4623-92a9-68b898750f28",
   "metadata": {
    "scrolled": true,
    "tags": []
   },
   "outputs": [],
   "source": [
    "import pandas as pd\n",
    "from sklearn.linear_model import LinearRegression\n",
    "from sklearn.metrics import mean_squared_error"
   ]
  },
  {
   "cell_type": "code",
   "execution_count": 3,
   "id": "590cc679-fb4d-4333-8d20-a8f612b7d215",
   "metadata": {
    "scrolled": true,
    "tags": []
   },
   "outputs": [
    {
     "name": "stdout",
     "output_type": "stream",
     "text": [
      "   Item_Weight  Item_Visibility  Item_MRP  Outlet_Establishment_Year  \\\n",
      "0       18.100         0.022526   95.0094                       2007   \n",
      "1        6.615         0.093575  199.4426                       2002   \n",
      "2       11.850         0.050187  164.1526                       2002   \n",
      "\n",
      "   Item_Outlet_Sales  Item_Fat_Content_LF  Item_Fat_Content_Low Fat  \\\n",
      "0          1713.7692                    0                         1   \n",
      "1          3361.6242                    0                         1   \n",
      "2          3124.5994                    0                         0   \n",
      "\n",
      "   Item_Fat_Content_Regular  Item_Fat_Content_low fat  Item_Fat_Content_reg  \\\n",
      "0                         0                         0                     0   \n",
      "1                         0                         0                     0   \n",
      "2                         1                         0                     0   \n",
      "\n",
      "   ...  Outlet_Size_High  Outlet_Size_Medium  Outlet_Size_Small  \\\n",
      "0  ...                 0                   0                  0   \n",
      "1  ...                 0                   0                  0   \n",
      "2  ...                 0                   0                  0   \n",
      "\n",
      "   Outlet_Location_Type_Tier 1  Outlet_Location_Type_Tier 2  \\\n",
      "0                            0                            1   \n",
      "1                            0                            1   \n",
      "2                            0                            1   \n",
      "\n",
      "   Outlet_Location_Type_Tier 3  Outlet_Type_Grocery Store  \\\n",
      "0                            0                          0   \n",
      "1                            0                          0   \n",
      "2                            0                          0   \n",
      "\n",
      "   Outlet_Type_Supermarket Type1  Outlet_Type_Supermarket Type2  \\\n",
      "0                              1                              0   \n",
      "1                              1                              0   \n",
      "2                              1                              0   \n",
      "\n",
      "   Outlet_Type_Supermarket Type3  \n",
      "0                              0  \n",
      "1                              0  \n",
      "2                              0  \n",
      "\n",
      "[3 rows x 36 columns]\n",
      "   Item_Weight  Item_Visibility  Item_MRP  Outlet_Establishment_Year  \\\n",
      "0       18.100         0.022526   95.0094                       2007   \n",
      "1        6.615         0.093575  199.4426                       2002   \n",
      "2       11.850         0.050187  164.1526                       2002   \n",
      "\n",
      "   Item_Outlet_Sales  Item_Fat_Content_LF  Item_Fat_Content_Low Fat  \\\n",
      "0          1713.7692                    0                         1   \n",
      "1          3361.6242                    0                         1   \n",
      "2          3124.5994                    0                         0   \n",
      "\n",
      "   Item_Fat_Content_Regular  Item_Fat_Content_low fat  Item_Fat_Content_reg  \\\n",
      "0                         0                         0                     0   \n",
      "1                         0                         0                     0   \n",
      "2                         1                         0                     0   \n",
      "\n",
      "   ...  Outlet_Size_High  Outlet_Size_Medium  Outlet_Size_Small  \\\n",
      "0  ...                 0                   0                  0   \n",
      "1  ...                 0                   0                  0   \n",
      "2  ...                 0                   0                  0   \n",
      "\n",
      "   Outlet_Location_Type_Tier 1  Outlet_Location_Type_Tier 2  \\\n",
      "0                            0                            1   \n",
      "1                            0                            1   \n",
      "2                            0                            1   \n",
      "\n",
      "   Outlet_Location_Type_Tier 3  Outlet_Type_Grocery Store  \\\n",
      "0                            0                          0   \n",
      "1                            0                          0   \n",
      "2                            0                          0   \n",
      "\n",
      "   Outlet_Type_Supermarket Type1  Outlet_Type_Supermarket Type2  \\\n",
      "0                              1                              0   \n",
      "1                              1                              0   \n",
      "2                              1                              0   \n",
      "\n",
      "   Outlet_Type_Supermarket Type3  \n",
      "0                              0  \n",
      "1                              0  \n",
      "2                              0  \n",
      "\n",
      "[3 rows x 36 columns]\n",
      "\n",
      "Shape of training data : (341, 36)\n",
      "\n",
      "Shape of testing data : (341, 36)\n"
     ]
    }
   ],
   "source": [
    "train_data = pd.read_csv('linear/train.csv')\n",
    "test_data = pd.read_csv('linear/test.csv')\n",
    "print(train_data.head(3))\n",
    "print(test_data.head(3))\n",
    "print('\\nShape of training data :',train_data.shape)\n",
    "print('\\nShape of testing data :',test_data.shape)"
   ]
  },
  {
   "cell_type": "code",
   "execution_count": 4,
   "id": "603ec3e8-8bc4-42e1-91ce-a83cd1a2846c",
   "metadata": {},
   "outputs": [
    {
     "data": {
      "text/plain": [
       "LinearRegression()"
      ]
     },
     "execution_count": 4,
     "metadata": {},
     "output_type": "execute_result"
    }
   ],
   "source": [
    "train_x = train_data.drop(columns=['Item_Outlet_Sales'],axis=1)\n",
    "train_y = train_data['Item_Outlet_Sales']\n",
    "\n",
    "test_x = test_data.drop(columns=['Item_Outlet_Sales'],axis=1)\n",
    "test_y = test_data['Item_Outlet_Sales']\n",
    "\n",
    "model = LinearRegression()\n",
    "model.fit(train_x,train_y)"
   ]
  },
  {
   "cell_type": "code",
   "execution_count": 5,
   "id": "680ab8e1-a6c6-437f-b611-82b47222c389",
   "metadata": {
    "scrolled": true,
    "tags": []
   },
   "outputs": [
    {
     "name": "stdout",
     "output_type": "stream",
     "text": [
      "\n",
      "Coefficient of model : [-9.43246817e+00 -1.36334814e+03  1.47120996e+01  5.25716701e+00\n",
      " -3.08160713e+02  5.40196700e+01  1.46460862e+02 -1.86881844e+02\n",
      "  2.94562026e+02 -1.20978659e+02  1.91147902e+02  2.88841813e+02\n",
      "  1.20939032e+02  4.93700723e-01  1.65245097e+02  7.99978995e+01\n",
      " -3.43206623e+01  2.16267915e+02  2.03907820e+02 -2.13523836e+02\n",
      " -1.57753096e+02 -8.76784016e+02 -6.45155297e+01  3.73702500e+02\n",
      " -1.72667882e+02  6.14237025e+01  3.82735364e+02  5.84575790e+01\n",
      " -1.54896394e+02  1.80902953e+02 -2.60065591e+01 -1.21501720e+03\n",
      "  1.94800651e+02 -2.75523130e+02  1.29573968e+03]\n"
     ]
    }
   ],
   "source": [
    "print('\\nCoefficient of model :', model.coef_)"
   ]
  },
  {
   "cell_type": "code",
   "execution_count": 6,
   "id": "3b5c2ca2-1d56-4a97-930f-a1fdbd31391e",
   "metadata": {},
   "outputs": [
    {
     "name": "stdout",
     "output_type": "stream",
     "text": [
      "\n",
      "Intercept of model -10702.945886780073\n"
     ]
    }
   ],
   "source": [
    "print('\\nIntercept of model',model.intercept_)"
   ]
  },
  {
   "cell_type": "code",
   "execution_count": 7,
   "id": "6d63e96e-d6bc-4eae-b190-e897ec97265c",
   "metadata": {
    "scrolled": true,
    "tags": []
   },
   "outputs": [
    {
     "name": "stdout",
     "output_type": "stream",
     "text": [
      "\n",
      "Item_Outlet_Sales on training data [ 1554.25836991  2996.36806365  2658.89749641  2281.45355388\n",
      "  2343.38090589  3774.162307    2496.2270017   1085.25819535\n",
      "  3627.45476827  1219.5359806   2088.85506246   921.30255577\n",
      "   178.4433023   1140.60835401  2559.43295864   836.96268557\n",
      "  2420.67597278  1751.72767689  1796.99389781  3824.14515917\n",
      "   564.94106486  1233.88446997  2145.20657514  2969.43374393\n",
      "   896.78051443  1525.82567574   483.33148216  2209.02101609\n",
      "  2862.21605657  1568.98791229  1993.95285368  3038.64269043\n",
      "  2703.45493561   326.18505855  3759.20381589  2306.08329193\n",
      "  1892.85225139  2785.72042443  2513.33413645  3632.17397732\n",
      "  2093.34330991   674.09102307  -893.27190909  1538.86951004\n",
      "   564.17259803  1744.8277889   3156.03404374  2375.96966998\n",
      "  1292.64807587  -169.23424653  1965.93949868  3585.86483674\n",
      "  1702.48929434  2431.2557754   1655.73491164   766.53800971\n",
      "  2730.52591894  1611.04553547  2168.75380434  2887.95349015\n",
      "   146.87696798   108.76638605  3861.35358703  2927.14377573\n",
      "  4211.77558071   730.10650962  1389.87795567   640.80185107\n",
      "   924.77266537  1886.27052057  1316.46061274  3323.30073316\n",
      "  1544.02494831   523.7929799   1512.20706222   681.72868074\n",
      "  1192.66278316   294.14170175   951.20060881   250.41977271\n",
      "  1305.15483221   976.36051998  2475.28505863  1830.87630739\n",
      "  2373.29545086  3422.89379698   795.90827829  3741.58366161\n",
      "  1205.67866667  1094.53554945  2576.46490134  1651.36424992\n",
      "  1531.49910054  3795.08124028   816.715901    4531.97485658\n",
      "  3847.07846017  2170.28065118  2877.08651106  1663.78665866\n",
      "  3386.6447335   3179.00642007  2946.77550672   697.47155564\n",
      "  2577.91500955  1498.92222674  2606.07417457  3657.10329414\n",
      "   660.32800572  1904.27834427   822.7966164   2159.89516106\n",
      "  1890.84520447  3481.90713152  2699.91056538   882.22545205\n",
      "  1924.60766018  1691.07081446  3610.33773957  1118.13625807\n",
      "  1284.44837907  1791.52373956  2005.17802984  2053.17381652\n",
      "  2158.48309389   -66.02643436  2099.11847189  3480.09246017\n",
      "  4123.93605389  2356.28698978  1959.88733885  1112.28484081\n",
      "  -696.24391444   515.53089684  4981.12584838 -1054.43091021\n",
      "  1542.42957464  2817.02145483  1597.18773775  1456.4756461\n",
      "  1252.959179    3533.20148823  1210.47408385  1408.41803559\n",
      "  2120.00916962  3390.64286684  2907.21836109  1086.14914755\n",
      "  2145.67152466  5195.40237662  -732.73146899  3074.08209299\n",
      "  1854.68363855  2021.820769    3972.87706184   898.39005193\n",
      "  1698.6309594   1906.02870309  2301.00594487  1979.47328624\n",
      "  1434.77213776   913.60212362  3592.26144548  1676.83035628\n",
      "  2822.97657494  3320.81209022  1084.79320515  2323.89089836\n",
      "  1472.67265555  1679.72169447  -786.59903333   663.64430252\n",
      "  1995.89552507   723.64710047  1417.26920873  2249.93150841\n",
      "  1496.07261262  2850.33998037   559.05280386   374.93061212\n",
      "   717.60237725  2322.80393288  1471.04478435  2269.46794949\n",
      "  1612.21043491  2813.28870597  2418.37590778  1706.61635477\n",
      "  3486.75610609  2028.67359664  3840.79448996  1247.39251862\n",
      "  2486.05518257  1147.40177928   516.29691658  2263.12640926\n",
      "  3763.63502165  2788.73077704  1706.07209217  1756.83687179\n",
      "  -353.40220188  2048.87709358  2397.06239698  2622.84988602\n",
      "  3922.79094831  2244.67738234  3709.47656206  4102.26622895\n",
      "  2224.82858385  1811.64026696  3055.50324654  2021.92948689\n",
      "  2100.60040732   608.92668987  1609.59661315  2352.63307891\n",
      "  1554.59532561  1816.77896782  3120.88240171   763.85932933\n",
      "  2478.84012799  2960.85929052  2972.4776307   2385.70564565\n",
      "   177.77097079  3137.60935396  3450.4983667   3201.94249834\n",
      "  3284.62636436  2257.54696268   928.1498812   2250.51914388\n",
      "  4227.07468474  2638.22588696  2261.35284468  -915.27686919\n",
      "   126.79739524  2512.06820187  2450.98868529  3090.09892589\n",
      "  4396.03716761  3282.31606229  2735.4340587   2894.34434634\n",
      "   910.42784972  3600.0714645   1874.12378574  3612.23043314\n",
      "  1954.50081489  2205.59253997  3638.34772242  1619.1911086\n",
      "   192.55747933  1412.66878896  1427.74902805  1396.38815722\n",
      "  1534.45836625   972.274295    2655.19203248  2680.81316786\n",
      "   253.42571843   390.73227035  1703.00417502  -225.70347094\n",
      "  2000.96558298  4140.45921526  1776.49697229  2827.79201459\n",
      "  2315.83749133  3748.32807374  -851.40331625  1315.62507584\n",
      "  -625.77327446  1897.05762315  2962.73214713  2209.45981823\n",
      "  1538.48645474  3077.71100882  -579.89940554  2789.08359364\n",
      "  2300.48923513  2511.49038398  1714.53604556  2574.37779058\n",
      "  4079.40060265  2929.68160405  2167.67814658   886.61607699\n",
      "  1680.86808728  4050.07648213  2755.02682707  3259.19686503\n",
      "  3961.06602332  1688.21173627  3908.31243928   415.71086491\n",
      "  2171.32562312  2800.82432172  2493.46724086  2255.1842403\n",
      "  3452.40694946  3555.20970436  3713.51140259  3913.54851144\n",
      "  3768.63451761  3913.49822063  3410.87882523  2739.86035756\n",
      "   785.67914794   569.19926236  1749.22839886  4913.22096122\n",
      "  2045.62451993  1711.84713747  3066.64447943   413.70596869\n",
      "  4498.4542021   2695.14466309  3399.55871278   598.09730467\n",
      "  2482.37542211  2786.78478841   623.55368861  2723.07093916\n",
      "  1798.05920089  2492.44746589  2881.88040633  3728.12119052\n",
      "  1468.29026402  1081.21846511  2999.34288004  5093.88623252\n",
      "  1355.37380799   546.58951046  1364.06076559  3715.95983047\n",
      "  3264.95983372  3143.73476079  3203.07924204  1450.99885052\n",
      "   549.88608479]\n"
     ]
    }
   ],
   "source": [
    "predict_train = model.predict(train_x)\n",
    "print('\\nItem_Outlet_Sales on training data',predict_train)"
   ]
  },
  {
   "cell_type": "code",
   "execution_count": 8,
   "id": "665bb321-e8e0-4931-8e34-08911988e1d6",
   "metadata": {},
   "outputs": [
    {
     "name": "stdout",
     "output_type": "stream",
     "text": [
      "\n",
      "RMSE on train dataset :  939.5696617002172\n"
     ]
    }
   ],
   "source": [
    "rmse_train = mean_squared_error(train_y,predict_train)**(0.5)\n",
    "print('\\nRMSE on train dataset : ', rmse_train)"
   ]
  },
  {
   "cell_type": "code",
   "execution_count": 9,
   "id": "dc04ccd1-33b5-4537-a37e-54c77dc32c79",
   "metadata": {
    "scrolled": true,
    "tags": []
   },
   "outputs": [
    {
     "name": "stdout",
     "output_type": "stream",
     "text": [
      "\n",
      "Item_Outlet_Sales on test data [ 1554.25836991  2996.36806365  2658.89749641  2281.45355388\n",
      "  2343.38090589  3774.162307    2496.2270017   1085.25819535\n",
      "  3627.45476827  1219.5359806   2088.85506246   921.30255577\n",
      "   178.4433023   1140.60835401  2559.43295864   836.96268557\n",
      "  2420.67597278  1751.72767689  1796.99389781  3824.14515917\n",
      "   564.94106486  1233.88446997  2145.20657514  2969.43374393\n",
      "   896.78051443  1525.82567574   483.33148216  2209.02101609\n",
      "  2862.21605657  1568.98791229  1993.95285368  3038.64269043\n",
      "  2703.45493561   326.18505855  3759.20381589  2306.08329193\n",
      "  1892.85225139  2785.72042443  2513.33413645  3632.17397732\n",
      "  2093.34330991   674.09102307  -893.27190909  1538.86951004\n",
      "   564.17259803  1744.8277889   3156.03404374  2375.96966998\n",
      "  1292.64807587  -169.23424653  1965.93949868  3585.86483674\n",
      "  1702.48929434  2431.2557754   1655.73491164   766.53800971\n",
      "  2730.52591894  1611.04553547  2168.75380434  2887.95349015\n",
      "   146.87696798   108.76638605  3861.35358703  2927.14377573\n",
      "  4211.77558071   730.10650962  1389.87795567   640.80185107\n",
      "   924.77266537  1886.27052057  1316.46061274  3323.30073316\n",
      "  1544.02494831   523.7929799   1512.20706222   681.72868074\n",
      "  1192.66278316   294.14170175   951.20060881   250.41977271\n",
      "  1305.15483221   976.36051998  2475.28505863  1830.87630739\n",
      "  2373.29545086  3422.89379698   795.90827829  3741.58366161\n",
      "  1205.67866667  1094.53554945  2576.46490134  1651.36424992\n",
      "  1531.49910054  3795.08124028   816.715901    4531.97485658\n",
      "  3847.07846017  2170.28065118  2877.08651106  1663.78665866\n",
      "  3386.6447335   3179.00642007  2946.77550672   697.47155564\n",
      "  2577.91500955  1498.92222674  2606.07417457  3657.10329414\n",
      "   660.32800572  1904.27834427   822.7966164   2159.89516106\n",
      "  1890.84520447  3481.90713152  2699.91056538   882.22545205\n",
      "  1924.60766018  1691.07081446  3610.33773957  1118.13625807\n",
      "  1284.44837907  1791.52373956  2005.17802984  2053.17381652\n",
      "  2158.48309389   -66.02643436  2099.11847189  3480.09246017\n",
      "  4123.93605389  2356.28698978  1959.88733885  1112.28484081\n",
      "  -696.24391444   515.53089684  4981.12584838 -1054.43091021\n",
      "  1542.42957464  2817.02145483  1597.18773775  1456.4756461\n",
      "  1252.959179    3533.20148823  1210.47408385  1408.41803559\n",
      "  2120.00916962  3390.64286684  2907.21836109  1086.14914755\n",
      "  2145.67152466  5195.40237662  -732.73146899  3074.08209299\n",
      "  1854.68363855  2021.820769    3972.87706184   898.39005193\n",
      "  1698.6309594   1906.02870309  2301.00594487  1979.47328624\n",
      "  1434.77213776   913.60212362  3592.26144548  1676.83035628\n",
      "  2822.97657494  3320.81209022  1084.79320515  2323.89089836\n",
      "  1472.67265555  1679.72169447  -786.59903333   663.64430252\n",
      "  1995.89552507   723.64710047  1417.26920873  2249.93150841\n",
      "  1496.07261262  2850.33998037   559.05280386   374.93061212\n",
      "   717.60237725  2322.80393288  1471.04478435  2269.46794949\n",
      "  1612.21043491  2813.28870597  2418.37590778  1706.61635477\n",
      "  3486.75610609  2028.67359664  3840.79448996  1247.39251862\n",
      "  2486.05518257  1147.40177928   516.29691658  2263.12640926\n",
      "  3763.63502165  2788.73077704  1706.07209217  1756.83687179\n",
      "  -353.40220188  2048.87709358  2397.06239698  2622.84988602\n",
      "  3922.79094831  2244.67738234  3709.47656206  4102.26622895\n",
      "  2224.82858385  1811.64026696  3055.50324654  2021.92948689\n",
      "  2100.60040732   608.92668987  1609.59661315  2352.63307891\n",
      "  1554.59532561  1816.77896782  3120.88240171   763.85932933\n",
      "  2478.84012799  2960.85929052  2972.4776307   2385.70564565\n",
      "   177.77097079  3137.60935396  3450.4983667   3201.94249834\n",
      "  3284.62636436  2257.54696268   928.1498812   2250.51914388\n",
      "  4227.07468474  2638.22588696  2261.35284468  -915.27686919\n",
      "   126.79739524  2512.06820187  2450.98868529  3090.09892589\n",
      "  4396.03716761  3282.31606229  2735.4340587   2894.34434634\n",
      "   910.42784972  3600.0714645   1874.12378574  3612.23043314\n",
      "  1954.50081489  2205.59253997  3638.34772242  1619.1911086\n",
      "   192.55747933  1412.66878896  1427.74902805  1396.38815722\n",
      "  1534.45836625   972.274295    2655.19203248  2680.81316786\n",
      "   253.42571843   390.73227035  1703.00417502  -225.70347094\n",
      "  2000.96558298  4140.45921526  1776.49697229  2827.79201459\n",
      "  2315.83749133  3748.32807374  -851.40331625  1315.62507584\n",
      "  -625.77327446  1897.05762315  2962.73214713  2209.45981823\n",
      "  1538.48645474  3077.71100882  -579.89940554  2789.08359364\n",
      "  2300.48923513  2511.49038398  1714.53604556  2574.37779058\n",
      "  4079.40060265  2929.68160405  2167.67814658   886.61607699\n",
      "  1680.86808728  4050.07648213  2755.02682707  3259.19686503\n",
      "  3961.06602332  1688.21173627  3908.31243928   415.71086491\n",
      "  2171.32562312  2800.82432172  2493.46724086  2255.1842403\n",
      "  3452.40694946  3555.20970436  3713.51140259  3913.54851144\n",
      "  3768.63451761  3913.49822063  3410.87882523  2739.86035756\n",
      "   785.67914794   569.19926236  1749.22839886  4913.22096122\n",
      "  2045.62451993  1711.84713747  3066.64447943   413.70596869\n",
      "  4498.4542021   2695.14466309  3399.55871278   598.09730467\n",
      "  2482.37542211  2786.78478841   623.55368861  2723.07093916\n",
      "  1798.05920089  2492.44746589  2881.88040633  3728.12119052\n",
      "  1468.29026402  1081.21846511  2999.34288004  5093.88623252\n",
      "  1355.37380799   546.58951046  1364.06076559  3715.95983047\n",
      "  3264.95983372  3143.73476079  3203.07924204  1450.99885052\n",
      "   549.88608479]\n"
     ]
    }
   ],
   "source": [
    "predict_test = model.predict(test_x)\n",
    "print('\\nItem_Outlet_Sales on test data',predict_test) "
   ]
  },
  {
   "cell_type": "code",
   "execution_count": 10,
   "id": "681ae1ad-4273-4af3-aae3-3ec704545e19",
   "metadata": {},
   "outputs": [
    {
     "name": "stdout",
     "output_type": "stream",
     "text": [
      "\n",
      "RMSE on test dataset :  939.5696617002172\n"
     ]
    }
   ],
   "source": [
    "rmse_test = mean_squared_error(test_y,predict_test)**(0.5)\n",
    "print('\\nRMSE on test dataset : ', rmse_test)"
   ]
  },
  {
   "cell_type": "markdown",
   "id": "76bca54c-6321-44ba-8535-f7f5a732187b",
   "metadata": {},
   "source": [
    "# Logistics regression"
   ]
  },
  {
   "cell_type": "code",
   "execution_count": 13,
   "id": "6ee0c768-1c13-4642-a257-7f650bdad9ce",
   "metadata": {},
   "outputs": [],
   "source": [
    "import pandas as pd\n",
    "from sklearn.linear_model import LogisticRegression\n",
    "from sklearn.metrics import accuracy_score"
   ]
  },
  {
   "cell_type": "code",
   "execution_count": 14,
   "id": "a6cb6997-9388-42e1-9b0b-2b0679fd219d",
   "metadata": {
    "scrolled": true,
    "tags": []
   },
   "outputs": [
    {
     "name": "stdout",
     "output_type": "stream",
     "text": [
      "   Survived        Age     Fare  Pclass_1  Pclass_2  Pclass_3  Sex_female  \\\n",
      "0         0  28.500000   7.2292         0         0         1           0   \n",
      "1         1  27.000000  10.5000         0         1         0           1   \n",
      "2         1  29.699118  16.1000         0         0         1           1   \n",
      "3         0  29.699118   0.0000         1         0         0           0   \n",
      "4         0  17.000000   8.6625         0         0         1           0   \n",
      "\n",
      "   Sex_male  SibSp_0  SibSp_1  ...  Parch_0  Parch_1  Parch_2  Parch_3  \\\n",
      "0         1        1        0  ...        1        0        0        0   \n",
      "1         0        1        0  ...        1        0        0        0   \n",
      "2         0        0        1  ...        1        0        0        0   \n",
      "3         1        1        0  ...        1        0        0        0   \n",
      "4         1        1        0  ...        1        0        0        0   \n",
      "\n",
      "   Parch_4  Parch_5  Parch_6  Embarked_C  Embarked_Q  Embarked_S  \n",
      "0        0        0        0           1           0           0  \n",
      "1        0        0        0           0           0           1  \n",
      "2        0        0        0           0           0           1  \n",
      "3        0        0        0           0           0           1  \n",
      "4        0        0        0           0           0           1  \n",
      "\n",
      "[5 rows x 25 columns]\n",
      "   Survived   Age      Fare  Pclass_1  Pclass_2  Pclass_3  Sex_female  \\\n",
      "0         0  35.0    7.1250         0         0         1           0   \n",
      "1         0  20.0    7.0500         0         0         1           0   \n",
      "2         0  26.0    7.8958         0         0         1           0   \n",
      "3         1  58.0  146.5208         1         0         0           1   \n",
      "4         1  35.0   83.4750         1         0         0           1   \n",
      "\n",
      "   Sex_male  SibSp_0  SibSp_1  ...  Parch_0  Parch_1  Parch_2  Parch_3  \\\n",
      "0         1        1        0  ...        1        0        0        0   \n",
      "1         1        1        0  ...        1        0        0        0   \n",
      "2         1        1        0  ...        1        0        0        0   \n",
      "3         0        1        0  ...        1        0        0        0   \n",
      "4         0        0        1  ...        1        0        0        0   \n",
      "\n",
      "   Parch_4  Parch_5  Parch_6  Embarked_C  Embarked_Q  Embarked_S  \n",
      "0        0        0        0           0           0           1  \n",
      "1        0        0        0           0           0           1  \n",
      "2        0        0        0           0           0           1  \n",
      "3        0        0        0           1           0           0  \n",
      "4        0        0        0           0           0           1  \n",
      "\n",
      "[5 rows x 25 columns]\n",
      "Shape of training data : (712, 25)\n",
      "Shape of testing data : (179, 25)\n"
     ]
    }
   ],
   "source": [
    "train_data = pd.read_csv('logistic/train-data.csv')\n",
    "test_data = pd.read_csv('logistic/test-data.csv')\n",
    "print(train_data.head())\n",
    "print(test_data.head())\n",
    "print('Shape of training data :',train_data.shape)\n",
    "print('Shape of testing data :',test_data.shape)"
   ]
  },
  {
   "cell_type": "code",
   "execution_count": 15,
   "id": "1299aee1-ca64-4007-a9ee-6bd20fe9b2df",
   "metadata": {},
   "outputs": [
    {
     "data": {
      "text/plain": [
       "LogisticRegression(max_iter=1000)"
      ]
     },
     "execution_count": 15,
     "metadata": {},
     "output_type": "execute_result"
    }
   ],
   "source": [
    "train_x = train_data.drop(columns=['Survived'],axis=1)\n",
    "train_y = train_data['Survived']\n",
    "test_x = test_data.drop(columns=['Survived'],axis=1)\n",
    "test_y = test_data['Survived']\n",
    "model = LogisticRegression(solver='lbfgs', max_iter=1000)\n",
    "model.fit(train_x,train_y)"
   ]
  },
  {
   "cell_type": "code",
   "execution_count": 16,
   "id": "ca7f75d4-5387-43b7-9276-39ce9dcc4768",
   "metadata": {},
   "outputs": [
    {
     "name": "stdout",
     "output_type": "stream",
     "text": [
      "Coefficient of model : [[-0.03080475  0.00156641  0.88684997  0.05639474 -1.00897872  1.24407421\n",
      "  -1.30980822  1.0541849   0.98518028  0.73246144 -1.03139369 -0.77322692\n",
      "  -0.42214289 -0.61079713  0.31533514  0.6959463   0.09390772  0.29432588\n",
      "  -0.70225078 -0.45832143 -0.30467683  0.16375609  0.15134471 -0.38083481]]\n",
      "Intercept of model [-0.02881666]\n"
     ]
    }
   ],
   "source": [
    "print('Coefficient of model :', model.coef_)\n",
    "print('Intercept of model',model.intercept_)"
   ]
  },
  {
   "cell_type": "code",
   "execution_count": 17,
   "id": "0e1d8394-bdcd-4a2c-ad1e-254b8bce2e5c",
   "metadata": {
    "scrolled": true,
    "tags": []
   },
   "outputs": [
    {
     "name": "stdout",
     "output_type": "stream",
     "text": [
      "Target on train data [0 1 1 0 0 0 0 0 0 0 0 1 0 0 0 0 0 0 0 1 0 0 0 0 0 0 0 0 0 1 1 0 0 0 0 0 1\n",
      " 1 0 0 0 1 0 1 1 1 1 0 0 0 1 0 0 1 0 0 0 0 1 0 1 1 1 1 0 0 0 0 0 0 0 0 0 0\n",
      " 0 1 1 0 0 1 0 0 0 1 1 0 0 1 1 0 1 0 0 0 0 1 0 1 1 0 0 1 0 1 1 1 0 1 1 0 1\n",
      " 0 0 0 0 1 0 0 1 1 1 0 0 1 0 0 0 1 0 0 1 1 0 0 1 0 0 0 0 0 0 1 0 1 0 1 1 0\n",
      " 0 0 1 1 0 0 0 1 0 1 0 0 1 1 0 1 1 0 1 0 0 0 0 0 0 0 0 0 0 0 0 0 0 1 0 0 1\n",
      " 0 1 1 1 1 0 0 1 0 1 0 0 1 1 1 1 1 0 0 0 1 1 1 0 0 0 0 1 0 0 0 0 0 0 0 0 0\n",
      " 0 0 0 0 0 0 1 0 1 0 1 0 0 1 0 1 0 0 0 1 0 1 0 1 1 0 0 0 1 1 0 1 0 0 1 1 1\n",
      " 0 0 1 0 1 1 1 0 1 0 0 0 1 0 0 1 1 1 0 0 0 0 0 0 0 1 1 0 0 0 0 0 0 0 1 0 0\n",
      " 0 0 1 1 0 1 1 0 1 0 1 0 0 0 0 0 1 0 1 1 1 0 0 0 1 0 1 0 0 0 1 0 0 1 0 1 1\n",
      " 1 0 0 1 1 0 1 1 0 0 0 0 0 1 0 1 1 0 1 0 0 1 1 1 1 0 0 0 0 1 0 0 0 0 0 0 0\n",
      " 0 0 0 0 0 1 0 0 1 0 0 1 0 0 1 0 0 1 0 0 0 0 0 1 0 0 0 1 1 1 0 1 0 1 1 0 1\n",
      " 0 1 1 0 0 0 0 0 0 0 0 0 1 0 0 0 0 0 1 0 0 0 0 1 0 0 1 1 1 1 0 0 0 0 1 0 0\n",
      " 0 1 0 0 0 0 0 0 1 0 0 1 1 0 1 1 1 0 0 0 0 0 0 1 0 0 1 1 1 0 1 0 0 0 0 0 0\n",
      " 0 0 1 0 0 0 0 0 0 1 1 0 1 1 0 1 1 0 1 0 0 1 0 0 0 0 0 0 1 0 1 0 0 0 1 0 1\n",
      " 1 0 0 0 0 1 0 0 0 1 0 1 0 1 1 1 0 0 0 0 0 0 1 1 1 0 1 1 1 0 1 1 0 0 0 0 1\n",
      " 0 1 0 1 1 0 0 1 0 0 1 0 1 1 0 1 0 1 0 1 0 0 0 0 1 1 0 1 0 0 1 1 0 1 1 0 0\n",
      " 1 0 1 0 0 0 0 1 0 1 0 1 1 0 0 1 0 1 1 0 1 0 0 0 1 0 1 0 0 0 1 0 0 0 0 0 1\n",
      " 0 0 0 0 0 0 1 1 0 0 1 1 0 0 0 1 1 0 0 0 0 0 1 1 1 0 0 0 0 0 0 1 0 1 0 0 0\n",
      " 0 0 0 0 1 0 0 1 0 0 1 0 0 0 0 1 1 0 0 0 0 0 0 0 0 0 1 0 0 0 1 0 0 1 0 1 0\n",
      " 1 0 1 1 1 0 0 0 0]\n"
     ]
    }
   ],
   "source": [
    "predict_train = model.predict(train_x)\n",
    "print('Target on train data',predict_train)"
   ]
  },
  {
   "cell_type": "code",
   "execution_count": 18,
   "id": "44e9ae85-8c40-4dcf-b154-4d0ba90f17f6",
   "metadata": {},
   "outputs": [
    {
     "name": "stdout",
     "output_type": "stream",
     "text": [
      "accuracy_score on train dataset :  0.8075842696629213\n"
     ]
    }
   ],
   "source": [
    "accuracy_train = accuracy_score(train_y,predict_train)\n",
    "print('accuracy_score on train dataset : ', accuracy_train)"
   ]
  },
  {
   "cell_type": "code",
   "execution_count": 19,
   "id": "7edb494e-db61-414f-9df0-db8982b2ba47",
   "metadata": {
    "scrolled": true,
    "tags": []
   },
   "outputs": [
    {
     "name": "stdout",
     "output_type": "stream",
     "text": [
      "Target on test data [0 0 0 1 1 0 0 0 0 0 0 1 1 0 0 0 0 0 1 0 0 0 1 0 0 0 0 1 0 1 1 0 1 0 1 0 1\n",
      " 0 0 0 0 0 0 0 0 0 0 0 1 0 0 0 0 0 0 1 0 1 1 0 0 1 1 1 0 0 0 0 0 0 0 0 0 0\n",
      " 1 0 0 0 1 0 0 0 0 1 1 0 1 1 0 1 0 0 0 0 1 1 1 0 1 0 0 0 0 0 1 1 0 1 1 1 1\n",
      " 0 1 0 0 0 0 1 1 1 1 0 1 1 0 1 1 0 0 0 1 0 0 1 1 1 0 1 1 0 1 0 0 0 0 0 0 0\n",
      " 0 0 0 0 1 0 0 1 0 0 0 0 0 1 1 0 0 1 0 0 1 0 1 1 0 1 0 0 0 0 1]\n"
     ]
    }
   ],
   "source": [
    "predict_test = model.predict(test_x)\n",
    "print('Target on test data',predict_test)"
   ]
  },
  {
   "cell_type": "code",
   "execution_count": 20,
   "id": "adf1437c-fd7e-49a5-8829-959398fd734b",
   "metadata": {},
   "outputs": [
    {
     "name": "stdout",
     "output_type": "stream",
     "text": [
      "accuracy_score on test dataset :  0.8212290502793296\n"
     ]
    }
   ],
   "source": [
    "accuracy_test = accuracy_score(test_y,predict_test)\n",
    "print('accuracy_score on test dataset : ', accuracy_test)"
   ]
  },
  {
   "cell_type": "markdown",
   "id": "8a61321d-46d3-4b1a-a8d6-a3b0e773e157",
   "metadata": {},
   "source": [
    "# Decision Tree"
   ]
  },
  {
   "cell_type": "code",
   "execution_count": 23,
   "id": "b9cc4772-563d-43b4-8cf6-e2b19f99b57a",
   "metadata": {},
   "outputs": [],
   "source": [
    "import pandas as pd\n",
    "from sklearn.tree import DecisionTreeClassifier\n",
    "from sklearn.metrics import accuracy_score"
   ]
  },
  {
   "cell_type": "code",
   "execution_count": 24,
   "id": "d7e25936-de43-4ac9-b415-2cd37afbb965",
   "metadata": {},
   "outputs": [
    {
     "name": "stdout",
     "output_type": "stream",
     "text": [
      "Shape of training data : (712, 25)\n",
      "Shape of testing data : (179, 25)\n"
     ]
    }
   ],
   "source": [
    "train_data = pd.read_csv('decision/train-data.csv')\n",
    "test_data = pd.read_csv('decision/test-data.csv')\n",
    "print('Shape of training data :',train_data.shape)\n",
    "print('Shape of testing data :',test_data.shape)"
   ]
  },
  {
   "cell_type": "code",
   "execution_count": 25,
   "id": "299eca7e-e8a9-4837-b385-addcc91d2653",
   "metadata": {},
   "outputs": [
    {
     "data": {
      "text/plain": [
       "DecisionTreeClassifier()"
      ]
     },
     "execution_count": 25,
     "metadata": {},
     "output_type": "execute_result"
    }
   ],
   "source": [
    "train_x = train_data.drop(columns=['Survived'],axis=1)\n",
    "train_y = train_data['Survived']\n",
    "test_x = test_data.drop(columns=['Survived'],axis=1)\n",
    "test_y = test_data['Survived']\n",
    "model = DecisionTreeClassifier()\n",
    "model.fit(train_x,train_y)"
   ]
  },
  {
   "cell_type": "code",
   "execution_count": 26,
   "id": "f8cef589-5668-4b8a-913c-b9a642732974",
   "metadata": {},
   "outputs": [
    {
     "name": "stdout",
     "output_type": "stream",
     "text": [
      "Depth of the Decision Tree : 19\n"
     ]
    }
   ],
   "source": [
    "print('Depth of the Decision Tree :', model.get_depth())"
   ]
  },
  {
   "cell_type": "code",
   "execution_count": 27,
   "id": "90f6d952-25b6-40e5-a1db-43ab266a7b52",
   "metadata": {
    "scrolled": true,
    "tags": []
   },
   "outputs": [
    {
     "name": "stdout",
     "output_type": "stream",
     "text": [
      "Target on train data [0 1 1 0 0 0 0 0 0 0 0 1 1 1 0 0 1 0 0 1 0 0 1 0 0 0 0 0 0 1 1 0 0 1 0 0 0\n",
      " 1 0 0 0 1 0 1 0 1 0 0 1 0 1 0 0 0 0 0 0 0 1 0 1 1 1 1 0 1 0 0 1 0 0 0 0 0\n",
      " 0 1 1 0 0 1 0 0 1 1 1 0 0 0 1 0 1 0 0 1 0 0 0 1 1 0 0 1 0 1 1 1 0 0 0 0 0\n",
      " 0 0 0 0 1 0 0 1 0 1 0 1 1 0 0 0 1 0 0 1 0 0 0 1 0 1 0 1 0 0 0 0 1 0 1 1 0\n",
      " 0 0 0 1 1 0 0 1 0 0 1 0 1 1 0 1 1 0 1 1 0 0 0 0 0 0 0 1 0 0 0 0 0 1 0 0 1\n",
      " 0 1 1 1 1 0 0 1 0 1 0 0 1 1 1 1 0 0 0 1 1 1 1 0 0 0 0 1 0 0 0 0 0 0 0 0 0\n",
      " 0 0 0 0 1 0 0 0 1 0 1 0 0 0 0 1 0 0 0 1 0 1 0 1 0 0 0 1 1 1 0 1 0 0 0 1 0\n",
      " 0 1 1 0 1 1 1 0 1 1 0 0 1 0 1 1 1 1 1 0 0 1 0 0 0 1 1 0 0 1 1 0 0 0 0 0 0\n",
      " 0 0 1 1 0 1 1 0 1 0 1 1 1 0 0 0 1 0 1 1 0 0 0 0 1 0 1 1 0 0 0 0 0 0 0 0 1\n",
      " 1 0 0 1 1 0 1 0 0 0 1 0 1 0 0 0 1 0 1 0 0 1 0 1 0 0 0 0 0 1 0 0 0 1 0 0 0\n",
      " 0 0 0 0 0 0 1 0 0 1 0 1 0 0 1 0 0 1 1 0 0 0 0 1 0 0 1 1 1 1 0 1 1 0 1 1 1\n",
      " 0 1 1 1 0 0 0 0 0 0 0 0 1 1 1 1 0 0 1 0 0 1 0 0 1 0 1 0 1 1 1 1 0 0 1 0 0\n",
      " 0 1 0 0 0 0 0 1 1 0 0 1 1 0 1 0 1 0 1 0 1 0 0 0 0 0 0 0 1 1 1 0 0 0 0 0 0\n",
      " 0 0 1 1 1 0 0 1 0 1 1 0 1 0 0 0 1 1 1 0 1 0 0 0 0 0 0 0 0 0 0 0 0 0 1 0 1\n",
      " 1 0 0 0 0 1 0 0 0 1 0 1 0 1 1 1 0 0 0 0 0 0 1 1 1 0 0 1 1 1 0 1 0 1 0 0 1\n",
      " 0 0 0 1 1 0 0 1 0 0 1 0 1 0 0 1 0 0 0 1 0 0 1 1 0 1 0 0 0 0 1 1 0 1 1 1 0\n",
      " 1 0 1 0 1 1 0 1 0 1 0 0 1 0 0 1 0 1 1 0 1 0 0 0 1 0 1 0 0 0 0 0 0 0 0 0 1\n",
      " 0 0 0 1 0 1 1 1 1 0 1 1 0 0 1 0 1 0 0 1 0 0 1 1 1 1 0 1 0 0 0 1 0 1 0 1 0\n",
      " 1 0 0 0 1 0 0 1 0 0 1 0 1 0 0 1 1 0 0 0 0 0 0 0 0 0 1 0 0 0 0 0 0 1 0 1 0\n",
      " 1 0 1 1 1 0 0 1 0]\n"
     ]
    }
   ],
   "source": [
    "predict_train = model.predict(train_x)\n",
    "print('Target on train data',predict_train) "
   ]
  },
  {
   "cell_type": "code",
   "execution_count": 28,
   "id": "e5f61cfb-3964-4a66-8ec5-f1b1e39db992",
   "metadata": {},
   "outputs": [
    {
     "name": "stdout",
     "output_type": "stream",
     "text": [
      "accuracy_score on train dataset :  0.9859550561797753\n"
     ]
    }
   ],
   "source": [
    "accuracy_train = accuracy_score(train_y,predict_train)\n",
    "print('accuracy_score on train dataset : ', accuracy_train)"
   ]
  },
  {
   "cell_type": "code",
   "execution_count": 29,
   "id": "a048f251-4d92-47b5-a492-b8a5610d4ce5",
   "metadata": {},
   "outputs": [
    {
     "name": "stdout",
     "output_type": "stream",
     "text": [
      "Target on test data [0 0 0 1 1 0 0 0 0 0 0 1 1 0 1 0 0 0 0 0 0 1 1 1 1 0 1 1 0 1 1 0 1 0 1 1 0\n",
      " 1 0 0 0 1 0 0 0 1 1 0 1 1 1 0 0 1 1 1 0 1 1 1 0 1 1 1 0 0 0 0 0 1 0 0 0 0\n",
      " 1 0 0 0 0 0 0 0 0 1 0 0 1 1 0 0 0 0 0 0 1 1 0 0 1 0 1 0 1 0 1 1 0 1 1 0 1\n",
      " 0 1 0 0 0 1 1 1 1 1 0 1 1 1 1 1 0 0 1 1 0 0 1 1 0 0 0 1 0 1 0 1 1 0 0 0 0\n",
      " 0 0 0 1 1 0 0 1 0 0 0 0 0 1 0 0 0 1 1 0 1 0 1 1 0 1 0 0 0 0 0]\n"
     ]
    }
   ],
   "source": [
    "predict_test = model.predict(test_x)\n",
    "print('Target on test data',predict_test) "
   ]
  },
  {
   "cell_type": "code",
   "execution_count": 30,
   "id": "3f95d19a-606b-423e-bdad-7680cdce46cc",
   "metadata": {},
   "outputs": [
    {
     "name": "stdout",
     "output_type": "stream",
     "text": [
      "accuracy_score on test dataset :  0.776536312849162\n"
     ]
    }
   ],
   "source": [
    "accuracy_test = accuracy_score(test_y,predict_test)\n",
    "print('accuracy_score on test dataset : ', accuracy_test)"
   ]
  },
  {
   "cell_type": "markdown",
   "id": "44d8741f-4273-4aea-bbf6-13c2501aeb89",
   "metadata": {},
   "source": [
    "# SVM"
   ]
  },
  {
   "cell_type": "code",
   "execution_count": 31,
   "id": "d7ab143b-7e9b-48ea-82c6-119f82f321f4",
   "metadata": {},
   "outputs": [],
   "source": [
    "# importing required libraries\n",
    "import pandas as pd\n",
    "from sklearn.svm import SVC\n",
    "from sklearn.metrics import accuracy_score"
   ]
  },
  {
   "cell_type": "code",
   "execution_count": 32,
   "id": "e3f323a4-35e4-4b21-8097-601c6186b643",
   "metadata": {},
   "outputs": [
    {
     "name": "stdout",
     "output_type": "stream",
     "text": [
      "Shape of training data : (712, 25)\n",
      "Shape of testing data : (179, 25)\n"
     ]
    }
   ],
   "source": [
    "# read the train and test dataset\n",
    "train_data = pd.read_csv('svm/train-data.csv')\n",
    "test_data = pd.read_csv('svm/test-data.csv')\n",
    "# shape of the dataset\n",
    "print('Shape of training data :',train_data.shape)\n",
    "print('Shape of testing data :',test_data.shape)"
   ]
  },
  {
   "cell_type": "code",
   "execution_count": 33,
   "id": "00b3afde-357d-4d77-bedf-26d505831b49",
   "metadata": {},
   "outputs": [
    {
     "data": {
      "text/plain": [
       "SVC()"
      ]
     },
     "execution_count": 33,
     "metadata": {},
     "output_type": "execute_result"
    }
   ],
   "source": [
    "# seperate the independent and target variable on training data\n",
    "train_x = train_data.drop(columns=['Survived'],axis=1)\n",
    "train_y = train_data['Survived']\n",
    "# seperate the independent and target variable on testing data\n",
    "test_x = test_data.drop(columns=['Survived'],axis=1)\n",
    "test_y = test_data['Survived']\n",
    "\n",
    "model = SVC()\n",
    "# fit the model with the training data\n",
    "model.fit(train_x,train_y)"
   ]
  },
  {
   "cell_type": "code",
   "execution_count": 34,
   "id": "759d5221-18d9-43c7-ab62-5ecc26ac191a",
   "metadata": {
    "scrolled": true,
    "tags": []
   },
   "outputs": [
    {
     "name": "stdout",
     "output_type": "stream",
     "text": [
      "Target on train data [0 0 0 0 0 0 0 0 0 0 0 0 0 0 0 0 0 0 0 0 0 0 0 0 0 0 0 0 0 0 0 0 0 0 0 0 0\n",
      " 0 0 0 0 0 0 1 0 0 0 0 0 0 1 0 0 0 0 0 0 0 0 0 0 1 1 0 0 0 0 0 0 0 0 0 1 0\n",
      " 0 1 0 0 0 0 0 0 0 0 1 1 0 0 0 0 1 0 0 0 0 1 0 0 0 0 0 1 0 0 0 0 0 0 0 1 0\n",
      " 0 0 0 0 0 0 1 0 0 0 0 0 0 0 0 0 1 0 0 0 1 0 0 1 0 0 1 0 0 0 0 0 0 0 1 1 0\n",
      " 0 0 0 1 0 0 1 0 0 0 1 0 0 0 0 1 1 0 0 0 0 0 0 0 0 0 1 0 0 0 0 0 0 0 0 0 0\n",
      " 0 0 0 1 0 0 0 1 0 1 0 0 0 0 0 0 0 0 0 1 0 1 0 0 0 0 0 0 0 0 0 0 0 0 0 0 0\n",
      " 0 0 1 0 0 0 1 0 1 0 0 0 0 0 0 0 0 0 0 0 0 0 0 0 1 1 0 0 1 0 0 0 0 0 0 0 0\n",
      " 1 0 0 1 0 0 1 1 0 0 0 0 0 0 0 0 1 1 0 0 0 0 0 0 0 0 0 0 1 0 1 0 0 0 1 0 0\n",
      " 0 0 0 0 0 0 0 0 0 0 0 0 0 0 0 0 0 0 1 1 0 0 0 0 1 0 1 0 0 0 0 0 0 0 0 0 1\n",
      " 0 0 0 0 0 0 1 0 0 0 0 0 0 0 0 0 0 0 0 0 0 0 0 0 0 0 0 0 0 0 0 0 0 0 0 0 0\n",
      " 0 0 0 1 0 0 0 0 0 0 0 0 0 0 0 0 0 1 0 0 0 0 0 1 0 0 0 0 0 0 0 1 0 1 1 0 0\n",
      " 0 1 0 0 0 0 0 0 0 0 0 0 0 0 0 0 0 0 1 0 0 0 0 0 0 0 0 1 0 1 0 0 0 0 1 0 0\n",
      " 0 0 0 0 0 0 0 0 0 0 0 0 0 0 0 0 1 0 0 0 0 0 0 0 0 0 0 0 0 1 0 0 0 0 0 0 1\n",
      " 0 0 0 0 0 0 0 0 0 1 1 1 0 0 0 0 0 0 0 0 0 0 0 0 0 0 0 0 0 0 0 0 0 0 1 0 0\n",
      " 0 0 0 1 0 0 0 0 0 0 0 1 0 0 1 1 0 0 0 1 0 0 0 1 0 0 0 0 0 0 0 1 0 0 0 0 1\n",
      " 0 1 0 0 0 0 1 0 0 0 0 0 0 0 0 1 1 0 0 0 0 0 0 0 1 1 0 0 0 1 1 0 0 1 0 0 0\n",
      " 0 0 0 0 0 0 0 0 0 0 0 1 0 0 0 0 0 0 1 0 0 1 0 0 0 0 1 0 0 0 0 0 1 0 0 0 1\n",
      " 0 0 0 0 0 1 0 0 0 0 0 0 0 0 0 0 1 0 0 0 0 0 0 1 0 0 0 0 0 0 0 0 0 0 0 0 0\n",
      " 0 0 0 0 0 0 0 0 0 0 0 0 1 0 0 0 1 0 0 0 0 0 0 1 0 0 0 0 0 0 0 0 0 1 0 0 0\n",
      " 1 0 0 0 1 0 1 0 0]\n"
     ]
    }
   ],
   "source": [
    "# predict the target on the train dataset\n",
    "predict_train = model.predict(train_x)\n",
    "print('Target on train data',predict_train) "
   ]
  },
  {
   "cell_type": "code",
   "execution_count": 35,
   "id": "cb04d308-2385-4236-ba8d-203ed7781149",
   "metadata": {},
   "outputs": [
    {
     "name": "stdout",
     "output_type": "stream",
     "text": [
      "accuracy_score on train dataset :  0.651685393258427\n"
     ]
    }
   ],
   "source": [
    "# Accuray Score on train dataset\n",
    "accuracy_train = accuracy_score(train_y,predict_train)\n",
    "print('accuracy_score on train dataset : ', accuracy_train)"
   ]
  },
  {
   "cell_type": "code",
   "execution_count": 36,
   "id": "376505a2-632a-4e4d-9e38-edc1df30f12c",
   "metadata": {},
   "outputs": [
    {
     "name": "stdout",
     "output_type": "stream",
     "text": [
      "Target on test data [0 0 0 1 1 0 0 0 0 0 0 0 0 0 0 0 0 0 0 0 0 0 0 0 0 0 0 1 0 1 0 0 0 0 0 0 0\n",
      " 1 0 0 0 0 0 0 0 0 0 0 0 1 0 0 0 0 0 1 0 0 1 0 0 1 0 0 0 0 0 0 0 0 0 0 0 0\n",
      " 0 0 0 0 0 0 0 0 1 1 0 0 1 0 0 0 0 0 0 0 0 0 0 0 0 0 0 0 0 0 0 1 0 1 0 0 0\n",
      " 0 1 0 0 1 0 0 0 1 1 0 1 0 0 0 1 0 0 0 0 0 0 1 0 0 0 0 1 0 0 0 0 0 0 0 0 0\n",
      " 0 0 0 0 1 0 0 0 0 0 0 0 0 0 0 0 0 0 0 0 0 0 0 0 0 0 0 0 0 0 0]\n"
     ]
    }
   ],
   "source": [
    "# predict the target on the test dataset\n",
    "predict_test = model.predict(test_x)\n",
    "print('Target on test data',predict_test) "
   ]
  },
  {
   "cell_type": "code",
   "execution_count": 37,
   "id": "11d18b83-a252-4bda-8f72-438cb26c5859",
   "metadata": {},
   "outputs": [
    {
     "name": "stdout",
     "output_type": "stream",
     "text": [
      "accuracy_score on test dataset :  0.7262569832402235\n"
     ]
    }
   ],
   "source": [
    "# Accuracy Score on test dataset\n",
    "accuracy_test = accuracy_score(test_y,predict_test)\n",
    "print('accuracy_score on test dataset : ', accuracy_test)"
   ]
  },
  {
   "cell_type": "markdown",
   "id": "b62f2efe-b2e7-4342-90d0-b71f5e612ec9",
   "metadata": {},
   "source": [
    "# Naive Bayes"
   ]
  },
  {
   "cell_type": "code",
   "execution_count": 38,
   "id": "630d4818-4458-406e-b397-2e48e524919a",
   "metadata": {},
   "outputs": [],
   "source": [
    "# importing required libraries\n",
    "import pandas as pd\n",
    "from sklearn.naive_bayes import GaussianNB\n",
    "from sklearn.metrics import accuracy_score"
   ]
  },
  {
   "cell_type": "code",
   "execution_count": 39,
   "id": "740f1715-4797-4b8e-9733-a4875d1768c9",
   "metadata": {},
   "outputs": [
    {
     "name": "stdout",
     "output_type": "stream",
     "text": [
      "Shape of training data : (712, 25)\n",
      "Shape of testing data : (179, 25)\n"
     ]
    }
   ],
   "source": [
    "# read the train and test dataset\n",
    "train_data = pd.read_csv('naive/train-data.csv')\n",
    "test_data = pd.read_csv('naive/test-data.csv')\n",
    "# shape of the dataset\n",
    "print('Shape of training data :',train_data.shape)\n",
    "print('Shape of testing data :',test_data.shape)"
   ]
  },
  {
   "cell_type": "code",
   "execution_count": 40,
   "id": "494ad428-697e-4a78-9c24-6efa185c37d0",
   "metadata": {},
   "outputs": [
    {
     "data": {
      "text/plain": [
       "GaussianNB()"
      ]
     },
     "execution_count": 40,
     "metadata": {},
     "output_type": "execute_result"
    }
   ],
   "source": [
    "# seperate the independent and target variable on training data\n",
    "train_x = train_data.drop(columns=['Survived'],axis=1)\n",
    "train_y = train_data['Survived']\n",
    "# seperate the independent and target variable on testing data\n",
    "test_x = test_data.drop(columns=['Survived'],axis=1)\n",
    "test_y = test_data['Survived']\n",
    "\n",
    "model = GaussianNB()\n",
    "# fit the model with the training data\n",
    "model.fit(train_x,train_y)"
   ]
  },
  {
   "cell_type": "code",
   "execution_count": 41,
   "id": "74d3b506-8480-42be-acf6-aea9bc83f0ee",
   "metadata": {
    "scrolled": true,
    "tags": []
   },
   "outputs": [
    {
     "name": "stdout",
     "output_type": "stream",
     "text": [
      "Target on train data [1 1 1 1 1 1 1 1 1 1 1 1 0 1 1 1 1 0 1 1 1 1 1 1 1 1 1 1 1 1 1 0 1 1 1 1 1\n",
      " 1 1 1 1 1 1 1 1 1 1 1 1 0 1 1 1 1 1 1 1 1 1 1 1 1 1 1 1 1 1 1 1 1 1 1 0 1\n",
      " 1 1 1 1 1 1 1 1 1 1 1 0 1 1 1 0 1 1 0 1 1 1 0 1 1 1 1 1 1 1 1 1 1 1 1 1 1\n",
      " 1 0 1 1 1 1 0 1 1 1 0 1 1 1 1 1 1 1 1 1 1 1 1 1 0 1 0 1 0 1 1 1 1 1 1 1 1\n",
      " 1 1 1 1 1 1 1 1 1 1 1 1 1 1 1 1 1 1 1 1 1 1 1 1 1 1 1 1 1 1 1 0 1 1 1 1 1\n",
      " 1 1 1 1 1 1 1 0 1 1 1 1 1 1 1 1 1 1 1 1 1 1 1 1 1 1 1 1 1 1 1 1 1 1 1 1 1\n",
      " 1 1 1 0 1 1 1 1 1 1 1 1 1 1 1 1 1 1 0 1 1 1 1 1 1 1 1 1 0 1 1 1 0 1 1 1 1\n",
      " 1 1 1 1 1 1 1 1 1 1 1 1 1 1 1 1 1 1 1 1 1 1 1 1 0 1 1 0 1 1 1 0 1 1 1 0 1\n",
      " 1 1 1 1 0 1 1 1 1 1 1 1 1 1 1 1 1 1 1 1 1 1 1 1 1 1 1 1 1 1 1 1 1 1 1 1 1\n",
      " 1 1 1 1 1 1 1 1 1 1 0 1 1 1 1 1 1 1 1 1 1 1 1 1 1 1 1 1 1 1 1 1 1 1 1 1 1\n",
      " 1 1 1 1 1 1 1 0 1 1 1 1 1 1 1 1 1 1 1 1 1 0 1 1 1 1 1 1 1 1 1 1 1 1 1 1 1\n",
      " 0 1 1 1 1 1 1 1 1 1 1 1 1 1 1 1 1 1 1 1 1 1 1 1 1 1 1 1 1 1 1 1 1 1 1 1 0\n",
      " 1 1 1 1 1 1 1 1 1 1 1 1 1 1 1 1 1 0 1 1 1 1 1 1 1 1 1 1 1 1 1 1 1 1 1 1 0\n",
      " 1 1 1 1 1 1 1 1 1 1 1 1 1 1 1 1 1 1 1 1 1 1 1 1 1 1 1 0 1 1 1 1 1 1 1 1 1\n",
      " 1 1 1 0 1 1 1 1 1 1 1 1 1 1 1 1 1 1 1 1 0 0 1 1 1 1 1 1 1 1 1 1 0 1 1 1 1\n",
      " 1 1 1 1 1 1 0 1 1 1 1 1 1 1 1 1 0 1 1 1 1 1 1 1 1 1 1 1 1 1 1 1 1 1 1 1 1\n",
      " 1 1 1 0 1 1 1 1 1 1 1 1 1 1 1 1 1 1 1 1 1 1 0 1 1 1 1 1 1 1 1 1 1 1 1 0 1\n",
      " 0 1 1 1 1 1 1 1 1 1 1 1 1 1 1 1 1 1 0 1 1 1 1 1 1 1 1 1 1 1 1 1 1 1 1 1 1\n",
      " 1 1 1 1 1 1 1 1 1 0 1 0 1 1 1 1 1 1 1 1 1 1 1 1 1 1 1 1 1 1 1 1 1 1 1 1 1\n",
      " 1 1 1 1 1 1 1 1 1]\n"
     ]
    }
   ],
   "source": [
    "# predict the target on the train dataset\n",
    "predict_train = model.predict(train_x)\n",
    "print('Target on train data',predict_train) "
   ]
  },
  {
   "cell_type": "code",
   "execution_count": 42,
   "id": "770992d9-3b8a-4d88-80e6-a55b684ddad0",
   "metadata": {},
   "outputs": [
    {
     "name": "stdout",
     "output_type": "stream",
     "text": [
      "accuracy_score on train dataset :  0.44803370786516855\n"
     ]
    }
   ],
   "source": [
    "# Accuray Score on train dataset\n",
    "accuracy_train = accuracy_score(train_y,predict_train)\n",
    "print('accuracy_score on train dataset : ', accuracy_train)"
   ]
  },
  {
   "cell_type": "code",
   "execution_count": 43,
   "id": "91c04e5c-06dc-4b53-b21b-6b6058711fdc",
   "metadata": {},
   "outputs": [
    {
     "name": "stdout",
     "output_type": "stream",
     "text": [
      "Target on test data [1 1 1 1 1 1 1 1 1 1 1 1 1 1 1 1 0 0 1 1 1 1 1 1 1 1 1 1 1 1 1 1 1 1 1 1 1\n",
      " 0 1 1 1 1 1 0 1 1 1 1 1 1 1 1 1 1 1 1 0 1 1 1 1 1 1 1 1 1 1 1 1 0 1 1 1 1\n",
      " 1 1 1 0 1 1 1 1 1 1 1 1 1 1 1 1 1 1 1 1 1 1 1 1 1 1 1 1 1 1 1 1 1 1 1 1 1\n",
      " 1 1 1 1 1 1 1 1 1 1 0 1 1 0 1 1 1 1 1 1 1 1 1 1 1 1 1 1 1 1 1 1 1 1 1 1 1\n",
      " 1 1 1 1 1 1 1 1 1 1 1 1 1 1 1 1 1 1 1 1 1 1 1 1 1 1 1 1 1 1 1]\n"
     ]
    }
   ],
   "source": [
    "# predict the target on the test dataset\n",
    "predict_test = model.predict(test_x)\n",
    "print('Target on test data',predict_test) "
   ]
  },
  {
   "cell_type": "code",
   "execution_count": 44,
   "id": "34e0ce1c-e59c-4c33-a420-98beeafab690",
   "metadata": {},
   "outputs": [
    {
     "name": "stdout",
     "output_type": "stream",
     "text": [
      "accuracy_score on test dataset :  0.35195530726256985\n"
     ]
    }
   ],
   "source": [
    "# Accuracy Score on test dataset\n",
    "accuracy_test = accuracy_score(test_y,predict_test)\n",
    "print('accuracy_score on test dataset : ', accuracy_test)"
   ]
  },
  {
   "cell_type": "markdown",
   "id": "028d4fc3-e2a2-4f09-a12a-541432fcc9f9",
   "metadata": {},
   "source": [
    "# k-NN"
   ]
  },
  {
   "cell_type": "code",
   "execution_count": 45,
   "id": "f6309dc0-1831-47d6-b440-ee529c0f0e24",
   "metadata": {},
   "outputs": [],
   "source": [
    "# importing required libraries\n",
    "import pandas as pd\n",
    "from sklearn.neighbors import KNeighborsClassifier\n",
    "from sklearn.metrics import accuracy_score"
   ]
  },
  {
   "cell_type": "code",
   "execution_count": 46,
   "id": "971288ea-8e2e-451d-b84f-4ed4ab522bcb",
   "metadata": {},
   "outputs": [
    {
     "name": "stdout",
     "output_type": "stream",
     "text": [
      "Shape of training data : (712, 25)\n",
      "Shape of testing data : (179, 25)\n"
     ]
    }
   ],
   "source": [
    "# read the train and test dataset\n",
    "train_data = pd.read_csv('knn/train-data.csv')\n",
    "test_data = pd.read_csv('knn/test-data.csv')\n",
    "# shape of the dataset\n",
    "print('Shape of training data :',train_data.shape)\n",
    "print('Shape of testing data :',test_data.shape)"
   ]
  },
  {
   "cell_type": "code",
   "execution_count": 47,
   "id": "6b525a6b-3b63-489f-9123-1f59d53cdaa4",
   "metadata": {},
   "outputs": [
    {
     "data": {
      "text/plain": [
       "KNeighborsClassifier()"
      ]
     },
     "execution_count": 47,
     "metadata": {},
     "output_type": "execute_result"
    }
   ],
   "source": [
    "# seperate the independent and target variable on training data\n",
    "train_x = train_data.drop(columns=['Survived'],axis=1)\n",
    "train_y = train_data['Survived']\n",
    "# seperate the independent and target variable on testing data\n",
    "test_x = test_data.drop(columns=['Survived'],axis=1)\n",
    "test_y = test_data['Survived']\n",
    "\n",
    "model = KNeighborsClassifier()  \n",
    "# fit the model with the training data\n",
    "model.fit(train_x,train_y)"
   ]
  },
  {
   "cell_type": "code",
   "execution_count": 48,
   "id": "d812d13f-712f-4957-b853-c39a5f3f51ca",
   "metadata": {},
   "outputs": [
    {
     "name": "stdout",
     "output_type": "stream",
     "text": [
      "\n",
      "The number of neighbors used to predict the target :  5\n"
     ]
    }
   ],
   "source": [
    "# Number of Neighbors used to predict the target\n",
    "print('\\nThe number of neighbors used to predict the target : ',model.n_neighbors)"
   ]
  },
  {
   "cell_type": "code",
   "execution_count": 49,
   "id": "38df24e6-a1f9-438a-8fbb-36bf7c01c4ea",
   "metadata": {
    "scrolled": true,
    "tags": []
   },
   "outputs": [
    {
     "name": "stdout",
     "output_type": "stream",
     "text": [
      "\n",
      "Target on train data [0 1 1 0 0 0 0 0 0 0 0 1 0 1 0 0 0 0 0 0 0 0 1 0 0 0 0 0 0 1 1 0 1 0 0 0 0\n",
      " 1 0 0 0 0 0 1 1 1 0 0 1 0 0 0 0 0 0 0 0 0 1 0 1 1 1 1 0 1 0 1 0 0 0 0 0 0\n",
      " 0 1 1 0 0 0 0 0 1 0 1 0 0 0 1 1 1 0 1 0 0 0 0 0 1 0 0 1 0 1 1 1 0 1 0 1 0\n",
      " 0 1 1 0 1 0 0 1 0 0 0 0 1 0 0 1 1 0 0 1 0 0 0 1 1 0 1 0 0 0 1 0 0 0 1 0 0\n",
      " 0 0 0 1 1 0 0 1 0 0 1 0 1 0 0 1 1 0 1 1 0 0 0 0 0 0 0 0 0 0 0 0 0 1 0 0 1\n",
      " 0 0 1 1 1 0 0 1 0 1 0 0 0 1 1 1 0 0 0 1 1 1 1 0 0 0 0 1 0 0 0 0 0 0 0 0 0\n",
      " 0 0 1 0 0 0 1 0 1 0 0 0 0 1 0 1 0 0 0 0 0 1 0 0 1 0 0 0 1 1 0 1 0 0 0 0 0\n",
      " 1 1 1 1 1 0 1 1 1 1 0 0 0 0 0 1 1 1 1 0 0 0 0 0 0 1 1 0 0 0 1 0 0 0 1 0 0\n",
      " 0 0 0 0 0 1 1 0 0 0 1 0 0 0 0 0 1 1 1 1 0 0 0 0 1 0 1 0 0 0 1 1 0 1 0 0 1\n",
      " 1 0 0 1 0 0 1 0 0 0 0 0 1 0 0 0 1 0 0 0 0 1 1 1 1 0 0 0 0 1 0 0 0 1 0 1 0\n",
      " 0 0 0 1 0 0 1 0 0 1 0 1 0 0 1 0 0 1 0 0 1 1 1 1 0 0 1 1 0 1 0 1 0 1 1 1 1\n",
      " 0 1 1 1 0 0 0 0 0 0 1 0 1 0 0 1 0 0 1 1 1 0 0 0 1 0 1 0 0 1 0 0 0 0 1 0 0\n",
      " 0 1 0 0 0 0 0 0 1 0 0 1 0 0 1 0 1 0 0 0 0 0 0 0 0 0 0 0 1 1 1 0 0 0 0 1 0\n",
      " 0 0 0 1 1 0 0 0 0 1 1 0 0 0 1 0 1 1 1 0 0 0 0 0 0 0 0 0 0 0 1 0 0 0 1 1 1\n",
      " 1 0 0 0 0 1 0 0 0 1 1 0 0 0 1 1 1 0 0 0 0 0 1 1 0 0 0 0 1 1 1 1 0 1 0 0 0\n",
      " 0 1 1 1 1 0 0 1 0 0 0 0 0 0 0 1 0 0 0 1 0 0 0 0 1 1 0 0 0 1 1 1 0 1 1 1 0\n",
      " 1 0 0 0 0 1 0 1 0 1 0 1 1 0 0 1 0 1 1 0 1 0 0 0 1 0 1 1 0 0 0 0 1 0 0 0 1\n",
      " 0 0 0 1 0 1 0 1 0 0 1 1 0 0 0 0 1 0 0 0 0 0 0 1 1 1 0 1 0 0 0 1 0 1 0 0 0\n",
      " 1 1 0 0 0 0 0 1 0 0 1 0 1 0 0 1 1 0 0 0 1 0 1 0 0 1 1 0 0 0 1 0 0 1 0 1 0\n",
      " 1 0 1 1 1 0 0 1 0]\n"
     ]
    }
   ],
   "source": [
    "# predict the target on the train dataset\n",
    "predict_train = model.predict(train_x)\n",
    "print('\\nTarget on train data',predict_train) "
   ]
  },
  {
   "cell_type": "code",
   "execution_count": 50,
   "id": "141614ce-7e7a-41f1-9751-cb0e101ee509",
   "metadata": {},
   "outputs": [
    {
     "name": "stdout",
     "output_type": "stream",
     "text": [
      "accuracy_score on train dataset :  0.8047752808988764\n"
     ]
    }
   ],
   "source": [
    "# Accuray Score on train dataset\n",
    "accuracy_train = accuracy_score(train_y,predict_train)\n",
    "print('accuracy_score on train dataset : ', accuracy_train)"
   ]
  },
  {
   "cell_type": "code",
   "execution_count": 51,
   "id": "795bac4f-b98a-4098-9650-1eee8dc70d4b",
   "metadata": {},
   "outputs": [
    {
     "name": "stdout",
     "output_type": "stream",
     "text": [
      "Target on test data [0 0 0 1 1 0 0 0 0 0 0 0 1 0 0 0 0 0 0 0 0 0 0 0 1 0 0 1 0 0 0 0 1 0 1 0 0\n",
      " 1 0 0 0 1 0 0 0 1 0 0 1 1 1 0 0 0 1 1 0 0 0 0 0 1 1 0 0 0 0 0 0 0 1 0 0 0\n",
      " 1 0 0 0 0 0 0 0 0 0 0 0 1 1 1 0 0 0 1 0 1 0 0 0 1 0 1 1 0 1 1 0 0 1 0 0 1\n",
      " 0 1 0 0 1 0 1 0 1 1 0 1 0 0 1 1 0 0 1 0 0 0 1 1 0 0 0 1 0 1 0 1 0 0 0 0 0\n",
      " 0 0 0 0 1 0 0 0 0 1 0 0 0 1 0 0 0 1 1 0 1 0 1 0 0 1 0 0 0 0 0]\n"
     ]
    }
   ],
   "source": [
    "# predict the target on the test dataset\n",
    "predict_test = model.predict(test_x)\n",
    "print('Target on test data',predict_test) "
   ]
  },
  {
   "cell_type": "code",
   "execution_count": 52,
   "id": "3ad10f33-cc0f-4948-955a-ce6d041a8482",
   "metadata": {},
   "outputs": [
    {
     "name": "stdout",
     "output_type": "stream",
     "text": [
      "accuracy_score on test dataset :  0.7262569832402235\n"
     ]
    }
   ],
   "source": [
    "# Accuracy Score on test dataset\n",
    "accuracy_test = accuracy_score(test_y,predict_test)\n",
    "print('accuracy_score on test dataset : ', accuracy_test)"
   ]
  },
  {
   "cell_type": "markdown",
   "id": "eb40fe79-bd87-447b-94f1-251a41552660",
   "metadata": {},
   "source": [
    "## k-Mean"
   ]
  },
  {
   "cell_type": "code",
   "execution_count": 53,
   "id": "cb8216d6-e199-4187-b08c-a55537b2a023",
   "metadata": {},
   "outputs": [],
   "source": [
    "# importing required libraries\n",
    "import pandas as pd\n",
    "from sklearn.cluster import KMeans"
   ]
  },
  {
   "cell_type": "code",
   "execution_count": 54,
   "id": "32c49019-6a72-4fe7-be98-d24fa6592975",
   "metadata": {},
   "outputs": [
    {
     "name": "stdout",
     "output_type": "stream",
     "text": [
      "Shape of training data : (100, 5)\n",
      "Shape of testing data : (100, 5)\n"
     ]
    }
   ],
   "source": [
    "# read the train and test dataset\n",
    "train_data = pd.read_csv('kmean/train-data.csv')\n",
    "test_data = pd.read_csv('kmean/test-data.csv')\n",
    "# shape of the dataset\n",
    "print('Shape of training data :',train_data.shape)\n",
    "print('Shape of testing data :',test_data.shape)"
   ]
  },
  {
   "cell_type": "code",
   "execution_count": 55,
   "id": "bac475dc-2612-42a1-a3c5-3bd5dc0281d2",
   "metadata": {},
   "outputs": [
    {
     "data": {
      "text/plain": [
       "KMeans()"
      ]
     },
     "execution_count": 55,
     "metadata": {},
     "output_type": "execute_result"
    }
   ],
   "source": [
    "model = KMeans()  \n",
    "# fit the model with the training data\n",
    "model.fit(train_data)"
   ]
  },
  {
   "cell_type": "code",
   "execution_count": 56,
   "id": "b5e483ad-ae79-4f7f-b289-afa9d3d12da4",
   "metadata": {},
   "outputs": [
    {
     "name": "stdout",
     "output_type": "stream",
     "text": [
      "\n",
      "Default number of Clusters :  8\n"
     ]
    }
   ],
   "source": [
    "# Number of Clusters\n",
    "print('\\nDefault number of Clusters : ',model.n_clusters)"
   ]
  },
  {
   "cell_type": "code",
   "execution_count": 57,
   "id": "eb1012c7-f339-45ba-aeb1-5e626af7d906",
   "metadata": {},
   "outputs": [
    {
     "name": "stdout",
     "output_type": "stream",
     "text": [
      "\n",
      "CLusters on train data [4 6 3 6 4 2 2 6 6 1 0 0 1 3 6 0 3 5 2 4 5 1 1 2 5 3 0 0 3 1 5 1 1 3 3 0 7\n",
      " 0 5 1 3 7 0 0 3 1 1 3 6 0 1 3 2 0 3 0 2 7 4 5 1 4 4 3 1 3 5 1 1 0 2 0 4 2\n",
      " 6 6 4 1 2 1 2 1 0 2 7 2 3 1 7 1 5 6 0 3 0 2 1 4 0 4]\n"
     ]
    }
   ],
   "source": [
    "# predict the clusters on the train dataset\n",
    "predict_train = model.predict(train_data)\n",
    "print('\\nCLusters on train data',predict_train) "
   ]
  },
  {
   "cell_type": "code",
   "execution_count": 58,
   "id": "7185f6eb-61b5-4c62-8a3b-52ace32f54d0",
   "metadata": {},
   "outputs": [
    {
     "name": "stdout",
     "output_type": "stream",
     "text": [
      "Clusters on test data [1 4 7 3 2 4 3 1 2 5 1 5 2 2 2 1 1 2 2 6 3 3 2 2 1 2 3 4 7 3 0 4 1 2 4 3 0\n",
      " 6 1 3 3 4 7 3 2 1 2 6 1 1 5 4 1 0 4 1 0 1 1 7 1 1 2 0 6 4 0 2 1 1 2 7 3 0\n",
      " 2 3 1 3 1 4 1 2 5 3 7 4 1 2 4 3 4 5 1 2 3 4 4 4 0 3]\n"
     ]
    }
   ],
   "source": [
    "# predict the target on the test dataset\n",
    "predict_test = model.predict(test_data)\n",
    "print('Clusters on test data',predict_test) "
   ]
  },
  {
   "cell_type": "code",
   "execution_count": 59,
   "id": "61416af6-2f07-4b64-9783-44e5d5e95dbc",
   "metadata": {},
   "outputs": [],
   "source": [
    "# Now, we will train a model with n_cluster = 3\n",
    "model_n3 = KMeans(n_clusters=3)"
   ]
  },
  {
   "cell_type": "code",
   "execution_count": 60,
   "id": "c1e84fdc-196a-476c-99e1-8ff1ae06b80a",
   "metadata": {},
   "outputs": [
    {
     "data": {
      "text/plain": [
       "KMeans(n_clusters=3)"
      ]
     },
     "execution_count": 60,
     "metadata": {},
     "output_type": "execute_result"
    }
   ],
   "source": [
    "# fit the model with the training data\n",
    "model_n3.fit(train_data)"
   ]
  },
  {
   "cell_type": "code",
   "execution_count": 61,
   "id": "61172877-3f95-4dcb-8ee7-5ea789caf766",
   "metadata": {},
   "outputs": [
    {
     "name": "stdout",
     "output_type": "stream",
     "text": [
      "\n",
      "Number of Clusters :  3\n"
     ]
    }
   ],
   "source": [
    "# Number of Clusters\n",
    "print('\\nNumber of Clusters : ',model_n3.n_clusters)"
   ]
  },
  {
   "cell_type": "code",
   "execution_count": 62,
   "id": "962059bf-f95d-4c35-ab81-b3258e1d3e13",
   "metadata": {},
   "outputs": [
    {
     "name": "stdout",
     "output_type": "stream",
     "text": [
      "\n",
      "CLusters on train data [1 2 0 2 1 0 1 2 2 1 2 2 1 0 2 2 0 1 1 1 1 1 1 0 1 0 2 2 0 1 1 1 1 0 0 2 1\n",
      " 2 1 1 0 1 2 2 0 1 1 0 2 2 1 0 1 2 0 2 1 1 1 1 1 1 1 0 1 0 1 1 1 2 0 2 1 1\n",
      " 2 2 2 1 2 1 1 1 2 1 1 1 0 1 1 1 1 2 2 0 2 1 1 1 2 1]\n"
     ]
    }
   ],
   "source": [
    "# predict the clusters on the train dataset\n",
    "predict_train_3 = model_n3.predict(train_data)\n",
    "print('\\nCLusters on train data',predict_train_3) "
   ]
  },
  {
   "cell_type": "code",
   "execution_count": 63,
   "id": "df98b8ad-4331-41f5-88a8-8a9745d5b032",
   "metadata": {},
   "outputs": [
    {
     "name": "stdout",
     "output_type": "stream",
     "text": [
      "Clusters on test data [1 1 1 0 1 1 0 1 1 1 1 1 1 0 0 1 1 1 1 2 0 0 1 1 1 1 0 1 1 0 2 1 1 1 1 0 2\n",
      " 2 1 0 0 1 1 0 1 1 1 2 1 1 1 1 1 2 1 1 2 1 1 1 1 1 1 2 2 1 2 1 1 1 2 1 0 2\n",
      " 1 0 1 0 1 2 1 1 1 0 1 1 1 1 1 0 1 1 1 1 0 1 1 1 2 0]\n"
     ]
    }
   ],
   "source": [
    "# predict the target on the test dataset\n",
    "predict_test_3 = model_n3.predict(test_data)\n",
    "print('Clusters on test data',predict_test_3)"
   ]
  },
  {
   "cell_type": "markdown",
   "id": "b426324f-db9f-48d6-955b-e1092a3ef220",
   "metadata": {},
   "source": [
    "# Dimensionality Reduction Algorithms"
   ]
  },
  {
   "cell_type": "code",
   "execution_count": 64,
   "id": "0c3e2e52-25aa-43af-ac16-26d8e8af78c4",
   "metadata": {},
   "outputs": [],
   "source": [
    "# importing required libraries\n",
    "import pandas as pd\n",
    "from sklearn.decomposition import PCA\n",
    "from sklearn.linear_model import LinearRegression\n",
    "from sklearn.metrics import mean_squared_error  "
   ]
  },
  {
   "cell_type": "code",
   "execution_count": 66,
   "id": "d1b72813-9143-4ca9-89cb-910ae2f35b5d",
   "metadata": {
    "scrolled": true,
    "tags": []
   },
   "outputs": [
    {
     "name": "stdout",
     "output_type": "stream",
     "text": [
      "   Item_Weight  Item_Visibility  Item_MRP  Outlet_Establishment_Year  \\\n",
      "0     6.800000         0.037490   48.6034                       2004   \n",
      "1    15.600000         0.172597  114.8518                       1997   \n",
      "2    12.911575         0.054721  107.8254                       1985   \n",
      "\n",
      "   Item_Outlet_Sales  Item_Fat_Content_LF  Item_Fat_Content_Low Fat  \\\n",
      "0           291.6204                    0                         1   \n",
      "1          2163.1842                    0                         1   \n",
      "2          2387.5588                    0                         1   \n",
      "\n",
      "   Item_Fat_Content_Regular  Item_Fat_Content_low fat  Item_Fat_Content_reg  \\\n",
      "0                         0                         0                     0   \n",
      "1                         0                         0                     0   \n",
      "2                         0                         0                     0   \n",
      "\n",
      "   ...  Outlet_Size_High  Outlet_Size_Medium  Outlet_Size_Small  \\\n",
      "0  ...                 0                   0                  1   \n",
      "1  ...                 0                   0                  1   \n",
      "2  ...                 0                   1                  0   \n",
      "\n",
      "   Outlet_Location_Type_Tier 1  Outlet_Location_Type_Tier 2  \\\n",
      "0                            0                            1   \n",
      "1                            1                            0   \n",
      "2                            0                            0   \n",
      "\n",
      "   Outlet_Location_Type_Tier 3  Outlet_Type_Grocery Store  \\\n",
      "0                            0                          0   \n",
      "1                            0                          0   \n",
      "2                            1                          0   \n",
      "\n",
      "   Outlet_Type_Supermarket Type1  Outlet_Type_Supermarket Type2  \\\n",
      "0                              1                              0   \n",
      "1                              1                              0   \n",
      "2                              0                              0   \n",
      "\n",
      "   Outlet_Type_Supermarket Type3  \n",
      "0                              0  \n",
      "1                              0  \n",
      "2                              1  \n",
      "\n",
      "[3 rows x 36 columns]\n",
      "\n",
      "Shape of training data : (1364, 36)\n",
      "\n",
      "Shape of testing data : (341, 36)\n"
     ]
    }
   ],
   "source": [
    "# read the train and test dataset\n",
    "train_data = pd.read_csv('dimension/train-data.csv')\n",
    "test_data = pd.read_csv('dimension/test-data.csv')\n",
    "# view the top 3 rows of the dataset\n",
    "print(train_data.head(3))\n",
    "# shape of the dataset\n",
    "print('\\nShape of training data :',train_data.shape)\n",
    "print('\\nShape of testing data :',test_data.shape)"
   ]
  },
  {
   "cell_type": "code",
   "execution_count": 67,
   "id": "767b9fb7-9694-4c62-ad14-9d878eb6e593",
   "metadata": {},
   "outputs": [
    {
     "name": "stdout",
     "output_type": "stream",
     "text": [
      "\n",
      "Training model with 35 dimensions.\n"
     ]
    }
   ],
   "source": [
    "train_x = train_data.drop(columns=['Item_Outlet_Sales'],axis=1)\n",
    "train_y = train_data['Item_Outlet_Sales']\n",
    "test_x = test_data.drop(columns=['Item_Outlet_Sales'],axis=1)\n",
    "test_y = test_data['Item_Outlet_Sales']\n",
    "\n",
    "print('\\nTraining model with {} dimensions.'.format(train_x.shape[1]))"
   ]
  },
  {
   "cell_type": "code",
   "execution_count": 68,
   "id": "30472a7f-7285-4b82-b9c8-0b887017c995",
   "metadata": {},
   "outputs": [
    {
     "name": "stdout",
     "output_type": "stream",
     "text": [
      "\n",
      "RMSE on train dataset :  1135.8159344155245\n",
      "\n",
      "RMSE on test dataset :  1009.2517232209708\n"
     ]
    }
   ],
   "source": [
    "# create object of model\n",
    "model = LinearRegression()\n",
    "# fit the model with the training data\n",
    "model.fit(train_x,train_y)\n",
    "# predict the target on the train dataset\n",
    "predict_train = model.predict(train_x)\n",
    "# Accuray Score on train dataset\n",
    "rmse_train = mean_squared_error(train_y,predict_train)**(0.5)\n",
    "print('\\nRMSE on train dataset : ', rmse_train)\n",
    "# predict the target on the test dataset\n",
    "predict_test = model.predict(test_x)\n",
    "# Accuracy Score on test dataset\n",
    "rmse_test = mean_squared_error(test_y,predict_test)**(0.5)\n",
    "print('\\nRMSE on test dataset : ', rmse_test)"
   ]
  },
  {
   "cell_type": "code",
   "execution_count": 69,
   "id": "b50b406c-617c-4238-a5a9-a1a7658616ba",
   "metadata": {},
   "outputs": [
    {
     "name": "stdout",
     "output_type": "stream",
     "text": [
      "\n",
      "Training model with 12 dimensions.\n"
     ]
    }
   ],
   "source": [
    "model_pca = PCA(n_components=12)\n",
    "new_train = model_pca.fit_transform(train_x)\n",
    "new_test  = model_pca.fit_transform(test_x)\n",
    "print('\\nTraining model with {} dimensions.'.format(new_train.shape[1]))"
   ]
  },
  {
   "cell_type": "code",
   "execution_count": 70,
   "id": "d9119a60-53be-47d2-abc6-3929bfc0cdaa",
   "metadata": {},
   "outputs": [],
   "source": [
    "# create object of model\n",
    "model_new = LinearRegression()\n",
    "# fit the model with the training data\n",
    "model_new.fit(new_train,train_y)\n",
    "# predict the target on the new train dataset\n",
    "predict_train_pca = model_new.predict(new_train)"
   ]
  },
  {
   "cell_type": "code",
   "execution_count": 71,
   "id": "5ac466f8-afe4-4b9e-9e26-7ea36eeae946",
   "metadata": {},
   "outputs": [
    {
     "name": "stdout",
     "output_type": "stream",
     "text": [
      "\n",
      "RMSE on new train dataset :  1159.9779419380027\n",
      "\n",
      "RMSE on new test dataset :  1014.4117489483181\n"
     ]
    }
   ],
   "source": [
    "# Accuray Score on train dataset\n",
    "rmse_train_pca = mean_squared_error(train_y,predict_train_pca)**(0.5)\n",
    "print('\\nRMSE on new train dataset : ', rmse_train_pca)\n",
    "# predict the target on the new test dataset\n",
    "predict_test_pca = model_new.predict(new_test)\n",
    "# Accuracy Score on test dataset\n",
    "rmse_test_pca = mean_squared_error(test_y,predict_test_pca)**(0.5)\n",
    "print('\\nRMSE on new test dataset : ', rmse_test_pca)"
   ]
  }
 ],
 "metadata": {
  "kernelspec": {
   "display_name": "Python 3 (ipykernel)",
   "language": "python",
   "name": "python3"
  },
  "language_info": {
   "codemirror_mode": {
    "name": "ipython",
    "version": 3
   },
   "file_extension": ".py",
   "mimetype": "text/x-python",
   "name": "python",
   "nbconvert_exporter": "python",
   "pygments_lexer": "ipython3",
   "version": "3.9.7"
  }
 },
 "nbformat": 4,
 "nbformat_minor": 5
}
