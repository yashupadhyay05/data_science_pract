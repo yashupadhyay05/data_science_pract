{
 "cells": [
  {
   "cell_type": "code",
   "execution_count": 1,
   "metadata": {
    "id": "bjMo6TzBqJZd"
   },
   "outputs": [],
   "source": [
    "import pandas as pd\n",
    "import numpy as np\n",
    "import scipy.stats as stats\n",
    "from scipy.stats import binom\n",
    "import seaborn as sns\n",
    "import pylab\n",
    "\n",
    "import matplotlib.pyplot as plt\n",
    "%matplotlib inline"
   ]
  },
  {
   "cell_type": "code",
   "execution_count": 3,
   "metadata": {
    "colab": {
     "base_uri": "https://localhost:8080/"
    },
    "id": "XN3XpTOKz0HI",
    "outputId": "773a9b7b-492a-49b2-a647-447835ee4ed7"
   },
   "outputs": [
    {
     "data": {
      "text/plain": [
       "(50000, 1)"
      ]
     },
     "execution_count": 3,
     "metadata": {},
     "output_type": "execute_result"
    }
   ],
   "source": [
    "loans_income = pd.read_csv('loans_income.csv')\n",
    "loans_income.shape"
   ]
  },
  {
   "cell_type": "markdown",
   "metadata": {
    "id": "zpd3SO9w-EEd"
   },
   "source": [
    "## Sampling Distribution of a Statistic"
   ]
  },
  {
   "cell_type": "code",
   "execution_count": 4,
   "metadata": {
    "colab": {
     "base_uri": "https://localhost:8080/"
    },
    "id": "Cy8URqqm2CyU",
    "outputId": "e715f6e9-5db4-43cb-d636-92e8ce674ace"
   },
   "outputs": [
    {
     "data": {
      "text/plain": [
       "(1000, 1)"
      ]
     },
     "execution_count": 4,
     "metadata": {},
     "output_type": "execute_result"
    }
   ],
   "source": [
    "samples = loans_income.sample(n=1000)\n",
    "samples.shape"
   ]
  },
  {
   "cell_type": "code",
   "execution_count": 5,
   "metadata": {
    "colab": {
     "base_uri": "https://localhost:8080/"
    },
    "id": "ZAIRmbhq2OYC",
    "outputId": "dbb576ed-a030-4ae6-c03a-4efee37f2711"
   },
   "outputs": [
    {
     "data": {
      "text/plain": [
       "44561    53449.0\n",
       "20753    77042.0\n",
       "32724    76542.0\n",
       "19463    79967.0\n",
       "3109     86367.0\n",
       "          ...   \n",
       "32304    75000.0\n",
       "18877    51800.0\n",
       "20370    53600.0\n",
       "40849    51000.0\n",
       "3440     59600.0\n",
       "Name: x, Length: 996, dtype: float64"
      ]
     },
     "execution_count": 5,
     "metadata": {},
     "output_type": "execute_result"
    }
   ],
   "source": [
    "#mean of 5 numbers\n",
    "sample_mean_5 = samples.rolling(5).mean().x\n",
    "sample_mean_5 = sample_mean_5.dropna()\n",
    "sample_mean_5"
   ]
  },
  {
   "cell_type": "code",
   "execution_count": 6,
   "metadata": {
    "colab": {
     "base_uri": "https://localhost:8080/"
    },
    "id": "D3iV1VPD3uyy",
    "outputId": "bd2b5a4d-b490-4a42-e0e0-bb185c827afd"
   },
   "outputs": [
    {
     "data": {
      "text/plain": [
       "33286    69218.50\n",
       "19528    71616.75\n",
       "12873    70741.75\n",
       "26566    69741.75\n",
       "7042     73841.75\n",
       "           ...   \n",
       "32304    75481.60\n",
       "18877    72746.60\n",
       "20370    71246.60\n",
       "40849    66996.60\n",
       "3440     68646.60\n",
       "Name: x, Length: 981, dtype: float64"
      ]
     },
     "execution_count": 6,
     "metadata": {},
     "output_type": "execute_result"
    }
   ],
   "source": [
    "#mean of 20 numbers\n",
    "sample_mean_20 = samples.rolling(20).mean().x\n",
    "sample_mean_20 = sample_mean_20.dropna()\n",
    "sample_mean_20"
   ]
  },
  {
   "cell_type": "code",
   "execution_count": 7,
   "metadata": {
    "colab": {
     "base_uri": "https://localhost:8080/"
    },
    "id": "Hwi81Kls32lQ",
    "outputId": "c135c22d-2fac-4135-b852-2c15ad5babd3"
   },
   "outputs": [
    {
     "data": {
      "text/plain": [
       "37913    65445.666667\n",
       "20022    69211.166667\n",
       "23601    68394.500000\n",
       "35447    67661.166667\n",
       "12093    68794.500000\n",
       "             ...     \n",
       "32304    75887.733333\n",
       "18877    74354.400000\n",
       "20370    75687.733333\n",
       "40849    75187.733333\n",
       "3440     77021.066667\n",
       "Name: x, Length: 971, dtype: float64"
      ]
     },
     "execution_count": 7,
     "metadata": {},
     "output_type": "execute_result"
    }
   ],
   "source": [
    "# mean of 30 numbers\n",
    "sample_mean_30 = samples.rolling(30).mean().x\n",
    "sample_mean_30 = sample_mean_30.dropna()\n",
    "sample_mean_30"
   ]
  },
  {
   "cell_type": "code",
   "execution_count": 8,
   "metadata": {
    "colab": {
     "base_uri": "https://localhost:8080/",
     "height": 607
    },
    "id": "CtTtP8gU32XZ",
    "outputId": "78eab9e5-3407-4656-c511-0d3d1b403f70"
   },
   "outputs": [
    {
     "data": {
      "image/png": "[encoded data removed]",
      "text/plain": [
       "<Figure size 720x720 with 4 Axes>"
      ]
     },
     "metadata": {
      "needs_background": "light"
     },
     "output_type": "display_data"
    }
   ],
   "source": [
    "fig = plt.figure(figsize=(10,10))\n",
    "\n",
    "#The full distribution of the plot:\n",
    "\n",
    "ax = fig.add_subplot(2,2,1)\n",
    "ax.hist(loans_income.x,bins=25)\n",
    "plt.title('Full Plot of the whole DATAFRAME')\n",
    "\n",
    "#distribution of 1000 samples:\n",
    "\n",
    "ax = fig.add_subplot(2,2,2)\n",
    "ax.hist(samples.x,bins=40)\n",
    "plt.title('Full Plot of the 1000 samples')\n",
    "\n",
    "#distribution of means of 5 numbers from 1000 samples:\n",
    "ax = fig.add_subplot(2,2,3)\n",
    "ax.hist(sample_mean_5,bins=40)\n",
    "plt.title('Plot of Rolling Mean 5 of the 1000 samples')\n",
    "\n",
    "#distribution of means of 20 numbers from 1000 samples:\n",
    "ax = fig.add_subplot(2,2,4)\n",
    "ax.hist(sample_mean_20,bins=40,label='Mean of 20')\n",
    "ax.hist(sample_mean_30,bins=40,label='Mean of 30')\n",
    "plt.title('Plot of Rolling Mean 20 and 30 of the 1000 samples')\n",
    "ax.legend()\n",
    "plt.show()\n",
    "\n",
    "plt.show()"
   ]
  },
  {
   "cell_type": "code",
   "execution_count": 9,
   "metadata": {
    "colab": {
     "base_uri": "https://localhost:8080/"
    },
    "id": "zaqT5GKE96IX",
    "outputId": "5f65ee75-79e7-48b7-83f2-c681af470a57"
   },
   "outputs": [
    {
     "name": "stdout",
     "output_type": "stream",
     "text": [
      "Total Population STD :  32872.03536985002\n",
      "Total Population Mean :  68760.51844\n",
      "Total Population Median :  62000.0\n",
      "Total Population Standard Error: 147.00821129152527\n",
      "Total Population Mode :  0    60000\n",
      "dtype: int64\n"
     ]
    }
   ],
   "source": [
    "#Calculating a rolling mean:\n",
    "print('Total Population STD : ',loans_income.x.std())\n",
    "print('Total Population Mean : ',loans_income.x.mean())\n",
    "print('Total Population Median : ',np.median(loans_income.x))\n",
    "print('Total Population Standard Error:',stats.sem(loans_income.x, ddof=1))\n",
    "print('Total Population Mode : ',loans_income.x.mode())"
   ]
  },
  {
   "cell_type": "markdown",
   "metadata": {
    "id": "rIFkFb5T-JOQ"
   },
   "source": [
    "## The Bootstrap"
   ]
  },
  {
   "cell_type": "code",
   "execution_count": 10,
   "metadata": {
    "colab": {
     "base_uri": "https://localhost:8080/"
    },
    "id": "Z6WFw9Q27F4q",
    "outputId": "c1d454cb-6cfb-4bf9-8b92-5fa3c3dd2a09",
    "scrolled": true,
    "tags": []
   },
   "outputs": [
    {
     "data": {
      "text/plain": [
       "array([ 72000,  52000,  57000,  57000,  80000,  26000,  45000,  80000,\n",
       "        77004,  28000,  92000,  60000,  94000, 100000,  79416,  98000,\n",
       "        72500,  60000, 100000,  60000,  50000,  36000,  30000,  56000,\n",
       "       123000,  78000,  54000,  53500, 120000,  98000,  56000,  62999,\n",
       "        55000,  36000,  34500,  23056, 101320, 130000,  80000,  24000,\n",
       "        60000,  19755,  68000,  50200,  71000, 120000,  84872,  75000,\n",
       "       115000,  60000,  54000, 144000,  37600,  31000, 130000,  51000,\n",
       "        83200, 150000, 150000,  61000,  85000,  42000,  70000, 175000,\n",
       "        70000,  62500,  64000,  60000,  85000,  32000,  50000,  47000,\n",
       "       100000,  63000,  35000,  61000,  80000,  55000,  33300,  95000,\n",
       "        92000,  73000,  55000,  83300,  42000,  60000, 125000,  55000,\n",
       "        39996, 100000,  69400,  45000,  38000,  50000,  83000,  18000,\n",
       "        57000,  36500,  52000,  60000,  45000,  31000,  45000,  80000,\n",
       "        41000,  60000,  41885,  29128,  72000,  60000,  58000, 105000,\n",
       "       110000,  70000, 118000,  36000,  55000,  70000, 180000, 125000,\n",
       "        75000, 100000,  30000,  46932,  25000,  62000,  98000,  84132,\n",
       "       121000,  78762, 152000,  46000,  82000,  70000,  80000, 145000,\n",
       "        43000,  40000,  40000,  78000,  70000,  85000,  80000,  24000,\n",
       "        48000,  35000,  57000,  64000, 169000,  64000,  90000,  64176,\n",
       "        30990, 116000,  62500,  75000, 110000,  40000,  85000,  75000,\n",
       "        45000,  36000, 160000,  85000,  32000,  90000,  43000,  65000,\n",
       "        69519,  53754,  85000,  35000,  87000,  45000,  74000,  48000,\n",
       "        70000,  72000,  65000,  30000,  80000, 128000,  31000,  70000,\n",
       "        38000,  75000, 147000, 111000,  15080,  68000,  60000,  40000,\n",
       "       165000,  75000,  75000,  30000,  33000,  66000,  63762, 100000,\n",
       "        34500,  41000,  52000, 102000,  30000,  65000,  36000,  52000,\n",
       "       105000,  88000,  95000,  40000,  58000,  54000,  72000,  90000,\n",
       "        75000,  64000,  84000, 146342,  90000,  86000,  51766,  47000,\n",
       "        60000,  46800,  80000,  64000,   9600,  50000, 160000, 170000,\n",
       "        90974, 104000,  71000,  45000,  35000, 167000,  67000,  28080,\n",
       "        60000, 133495,  36000,  70084,  44604,  55000,  50978,  36584,\n",
       "       120000,  92151, 102000,  50180,  74000,  37000,  60000,  69000,\n",
       "        57000,  55000,  50000,  31200,  52000, 100000,  48434,  81560,\n",
       "        57000,  73500,  96000,  40000,  81000,  75000,  50000,  88000,\n",
       "        60000,  73000,  63000, 112000,  15000,  54000,  45000,  69873,\n",
       "        60000,  80000,  87000,  65000,  78000,  75000,  90000,  39000,\n",
       "        30000,  48000, 120000, 103500,  74563, 120000,  40000,  57600,\n",
       "        65000,  85000,  22000, 160000,  56000,  72000, 100000, 120000,\n",
       "        46600, 121000,  72500, 120000,  98000,  51000,  65888,  52000,\n",
       "        45000,  37440,  41000,  60000,  75000,  33000, 110690,  25000,\n",
       "        65000,  36000,  33000,  70000,  70000,  45000,  26844, 150000,\n",
       "        95000,  82000,  84000,  87500, 125000, 112000,  65000, 104100,\n",
       "       151000,  70000,  79630,  60000,  65000,  29000, 128000,  50000,\n",
       "       136000, 100000,  45000,  60000,  49000,  38000,  64000,  38542,\n",
       "        36000,  46456,  63000,  52000,  62000,  70000,  65000,  42000,\n",
       "        80000,  64000, 105000,  51000,  80000,  80000,  60000,  50000,\n",
       "        43000,  19200,  87500, 160000,  25041, 105000,  77000,  40000,\n",
       "        45000,  52000, 130000,  56000,  41000, 119000,  50000,  51000,\n",
       "        61300, 125000,  80000,  54000, 112000, 125000,  85000,  45000,\n",
       "        45000,  70000,  70000,  67000,  90000, 100000,  37000,  85000,\n",
       "        42000,  75000,  89000,  60000,  54000,  80000,  42500,  47000,\n",
       "        72000,  60000,  47000,  54000, 100000, 160000,  45000,  53000,\n",
       "        36600,  70000,  56000,  57640,  33000,  30000,  80000,  55000,\n",
       "        96000,  66000,  78000,  62000,  62000,  42000,  61000,  50000,\n",
       "        80000,  63000, 150000,  98000,  45156, 185000,  92000,  38496,\n",
       "        39359,  28000, 108000,  38000,  81000,  40000,  54000,  80000,\n",
       "        40000,  60000, 170000,  75000,  65000,  67500,  60000,  31000,\n",
       "        52000,  36000,  73000, 110000,  67000,  38000,  88500,  45448,\n",
       "        81000,  68000,  68500,  74000,  30000,  50000, 144000,  48000,\n",
       "        32000,  50000,  80000,  57000,  39000,  95000,  38500,  48000,\n",
       "        50231,  35000,  90000,  58000,  60000,  48000,  70000,  64000,\n",
       "        41000,  68008, 168000, 126000,  24000,  64000,  96000,  86000,\n",
       "        76000, 150000,  32700,  32880,  45000,  90000,  41000,  67000,\n",
       "        72000,  72000, 117000,  68000,  80000,  55000,  69000,  90000,\n",
       "        60479,  78000,  56000,  40000,  77334, 165000,  57000,  36000,\n",
       "        39500,  35000, 113000,  40000,  30000,  60000,  80000,  70000,\n",
       "        54777,  97000,  79000,  41000,  95000,  52000, 178000,  34500,\n",
       "        53000,  73000,  48556,  62400,  60000,  60000,  39000,  38000,\n",
       "       110000,  59016,  65000,  90000, 120000,  95000,  72862, 129000,\n",
       "       150000, 125000,  95000,  86000,  65000, 110000,  40000,  80000,\n",
       "        75000,  64350,  64000,  45000,  60000,  38000,  70000, 112800,\n",
       "        45000,  74198,  72862,  65000, 130000,  40000,  26000,  65000,\n",
       "        82000,  50000, 132000,  21000,  85000,  67000,  64000,  35000,\n",
       "        47000,  27000,  34000,  93800,  53940,  26000,  50000,  71000,\n",
       "        65000, 128000,  53800,  47000,  35000,  84000, 177000,  55000,\n",
       "        34000,  36000,  65000,  70000,  60000,  70000, 115000,  67000,\n",
       "        40000,  55000,  40000, 102000,  62500,  26000, 100000,  55000,\n",
       "        56000,  67000,  44600,  74000,  48000,  42000,  54000,  35000,\n",
       "        72000, 125000,  43500, 135000, 195000,  49500,  69000, 125000,\n",
       "       112000,  60000,  58000,  45000,  48000,  41000,  44000,  70000,\n",
       "        70800, 120000,  32700,  45000,  30500,  85000,  37000, 150000,\n",
       "        78000, 100000,  54000,  45000,  58000,  41500,  94000,  54500,\n",
       "        52000,  56000,  30000,  51000,  44400,  35000,  87375,  53000,\n",
       "        48000, 175000,  60000, 100000,  53000,  34000,  41454,  94000,\n",
       "        70000,  45000,  60000, 150000,  40000,  58476,  70000,  78000,\n",
       "        75000,  80000,  34000, 150000,  45000,  70000, 117000, 119496,\n",
       "        50000,  75000,  70000, 140000,  70000, 100000,  75000,  85000,\n",
       "        55000,  62000,  47000,  30000,  80000,  44000,  90000,  66000,\n",
       "        32000,  87000,  80000,  81000,  52500,  65000,  41000, 126000,\n",
       "        55000,  25000, 110000,  49000,  35000,  68000,  95000,  76300,\n",
       "        75000, 105000,  21700,  50000,  62000,  60000,  46000,  43000,\n",
       "        75000,  70000,  13500,  77300,  82000,  58000, 110000, 180000,\n",
       "        54035,  65000,  97000,  70000,  51000, 100000,  78000,  58000,\n",
       "        46000,  30000,  61189, 116000,  70000,  75000,  32000, 120000,\n",
       "       130000,  38468,  60000,  36000, 120000,  55000,  75000,  47000,\n",
       "        40000,  44219,  35000,  73000, 106080,  95000,  60000,  80000,\n",
       "       165000,  27000,  89700,  52500,  80000,  35000,  40000,  71000,\n",
       "        53000,  60000,  69000,  46000,  40000,  65000,  75000,  75000,\n",
       "        24000,  75000,  28000,  45000,  72000,  98500,  55000, 110000,\n",
       "        36000,  38000,  72000,  67000,  50000,  34400, 146085,  36000,\n",
       "        49000,  52000,  35000,  48000,  55000,  71500,  60000,  72000,\n",
       "        60361,  64000,  55000,  62500,  36000,  70000,  60000,  32000,\n",
       "        71500,  69000,  30000,  85000,  80000,  67300,  40000, 130000,\n",
       "        80000,  21000,  45000,  19200,  96000,  75000,  75000,  55000,\n",
       "        42640, 130000,  50000,  65000,  75000,  36000, 140000,  60000,\n",
       "        65000,  90000,  95000,  51000, 113000,  65000,  85000,  96000,\n",
       "        20950,  39000,  51000, 110000,  39500,  80000,  31000,  65000,\n",
       "        42000,  65000,  62000,  84000,  66900,  85000,  27996, 185000,\n",
       "        73524,  48000,  82000,  80000,  87700,  79350,  55000,  60000,\n",
       "        55000,  28000,  66000,  75000,  72000,  75000,  60000, 110000,\n",
       "        65000,  78000,  43200, 150000,  42999,  44500,  84000, 108000,\n",
       "        35000,  52000,  43360,  35000,  33600,  32000,  48000,  31900,\n",
       "        62000,  40000,  70000, 140000, 120000,  50185,  51265,  30000,\n",
       "        65000,  84000,  46000,  85000,  65500,  85000,  56652, 150000,\n",
       "        92000,  53000,  33000,  70000,  65000,  42000, 125000, 108200,\n",
       "       100000,  54000, 102000,  67000,  88000,  56000,  50000,  90000,\n",
       "       150000, 115000,  50000,  92000,  93000,  65000,  64000,  23000,\n",
       "       110000,  32640, 100000, 153000,  93000,  70000,  78000,  42000,\n",
       "        41017,  69000,  60000, 120000,  57704,  50000,  78000,  49000,\n",
       "        75000,  30426, 180000,  30000, 129000,  36000,  43000,  35000,\n",
       "        76500, 150000,  32000,  46342, 152000,  68000,  40000,  70000,\n",
       "       105000,  38000,  85000,  97000,  65000, 132110,  85000,  94000,\n",
       "        28000,  42800,  38022,  51000,  65000,  50000,  35000,  75000,\n",
       "       100000,  56916,  51000,  85000,  50000,  35000,  80000,  75000,\n",
       "        35000,  77000,  85000,  55000,  44600,  55000,  60000,  92000],\n",
       "      dtype=int64)"
      ]
     },
     "execution_count": 10,
     "metadata": {},
     "output_type": "execute_result"
    }
   ],
   "source": [
    "bootstrap_1000 = np.random.choice(loans_income.x,size=1000,replace=True)\n",
    "bootstrap_1000"
   ]
  },
  {
   "cell_type": "code",
   "execution_count": 11,
   "metadata": {
    "colab": {
     "base_uri": "https://localhost:8080/"
    },
    "id": "XvmNXVHB_xDM",
    "outputId": "a36f4531-a871-4f3e-9d55-82d4715a5547"
   },
   "outputs": [
    {
     "data": {
      "text/plain": [
       "array([ 95000,  65000,  25000, ...,  50000,  75000, 100000], dtype=int64)"
      ]
     },
     "execution_count": 11,
     "metadata": {},
     "output_type": "execute_result"
    }
   ],
   "source": [
    "bootstrap_10000 = np.random.choice(loans_income.x,size=10000,replace=True)\n",
    "bootstrap_10000"
   ]
  },
  {
   "cell_type": "code",
   "execution_count": 12,
   "metadata": {
    "colab": {
     "base_uri": "https://localhost:8080/"
    },
    "id": "8T4ggdyB_w3Q",
    "outputId": "b8821d7d-6df6-4503-bcca-40c1713a5cf8"
   },
   "outputs": [
    {
     "data": {
      "text/plain": [
       "array([ 58240, 131000,  31000, ...,  38147,  70000,  60000], dtype=int64)"
      ]
     },
     "execution_count": 12,
     "metadata": {},
     "output_type": "execute_result"
    }
   ],
   "source": [
    "bootstrap_20000 = np.random.choice(loans_income.x,size=20000,replace=True)\n",
    "bootstrap_20000"
   ]
  },
  {
   "cell_type": "code",
   "execution_count": 13,
   "metadata": {
    "colab": {
     "base_uri": "https://localhost:8080/"
    },
    "id": "nDZHSNG4_wsm",
    "outputId": "282b024b-e820-40a1-bdbe-f3afe5f043ee"
   },
   "outputs": [
    {
     "data": {
      "text/plain": [
       "[array([ 72000,  52000,  57000,  57000,  80000,  26000,  45000,  80000,\n",
       "         77004,  28000,  92000,  60000,  94000, 100000,  79416,  98000,\n",
       "         72500,  60000, 100000,  60000,  50000,  36000,  30000,  56000,\n",
       "        123000,  78000,  54000,  53500, 120000,  98000,  56000,  62999,\n",
       "         55000,  36000,  34500,  23056, 101320, 130000,  80000,  24000,\n",
       "         60000,  19755,  68000,  50200,  71000, 120000,  84872,  75000,\n",
       "        115000,  60000,  54000, 144000,  37600,  31000, 130000,  51000,\n",
       "         83200, 150000, 150000,  61000,  85000,  42000,  70000, 175000,\n",
       "         70000,  62500,  64000,  60000,  85000,  32000,  50000,  47000,\n",
       "        100000,  63000,  35000,  61000,  80000,  55000,  33300,  95000,\n",
       "         92000,  73000,  55000,  83300,  42000,  60000, 125000,  55000,\n",
       "         39996, 100000,  69400,  45000,  38000,  50000,  83000,  18000,\n",
       "         57000,  36500,  52000,  60000,  45000,  31000,  45000,  80000,\n",
       "         41000,  60000,  41885,  29128,  72000,  60000,  58000, 105000,\n",
       "        110000,  70000, 118000,  36000,  55000,  70000, 180000, 125000,\n",
       "         75000, 100000,  30000,  46932,  25000,  62000,  98000,  84132,\n",
       "        121000,  78762, 152000,  46000,  82000,  70000,  80000, 145000,\n",
       "         43000,  40000,  40000,  78000,  70000,  85000,  80000,  24000,\n",
       "         48000,  35000,  57000,  64000, 169000,  64000,  90000,  64176,\n",
       "         30990, 116000,  62500,  75000, 110000,  40000,  85000,  75000,\n",
       "         45000,  36000, 160000,  85000,  32000,  90000,  43000,  65000,\n",
       "         69519,  53754,  85000,  35000,  87000,  45000,  74000,  48000,\n",
       "         70000,  72000,  65000,  30000,  80000, 128000,  31000,  70000,\n",
       "         38000,  75000, 147000, 111000,  15080,  68000,  60000,  40000,\n",
       "        165000,  75000,  75000,  30000,  33000,  66000,  63762, 100000,\n",
       "         34500,  41000,  52000, 102000,  30000,  65000,  36000,  52000,\n",
       "        105000,  88000,  95000,  40000,  58000,  54000,  72000,  90000,\n",
       "         75000,  64000,  84000, 146342,  90000,  86000,  51766,  47000,\n",
       "         60000,  46800,  80000,  64000,   9600,  50000, 160000, 170000,\n",
       "         90974, 104000,  71000,  45000,  35000, 167000,  67000,  28080,\n",
       "         60000, 133495,  36000,  70084,  44604,  55000,  50978,  36584,\n",
       "        120000,  92151, 102000,  50180,  74000,  37000,  60000,  69000,\n",
       "         57000,  55000,  50000,  31200,  52000, 100000,  48434,  81560,\n",
       "         57000,  73500,  96000,  40000,  81000,  75000,  50000,  88000,\n",
       "         60000,  73000,  63000, 112000,  15000,  54000,  45000,  69873,\n",
       "         60000,  80000,  87000,  65000,  78000,  75000,  90000,  39000,\n",
       "         30000,  48000, 120000, 103500,  74563, 120000,  40000,  57600,\n",
       "         65000,  85000,  22000, 160000,  56000,  72000, 100000, 120000,\n",
       "         46600, 121000,  72500, 120000,  98000,  51000,  65888,  52000,\n",
       "         45000,  37440,  41000,  60000,  75000,  33000, 110690,  25000,\n",
       "         65000,  36000,  33000,  70000,  70000,  45000,  26844, 150000,\n",
       "         95000,  82000,  84000,  87500, 125000, 112000,  65000, 104100,\n",
       "        151000,  70000,  79630,  60000,  65000,  29000, 128000,  50000,\n",
       "        136000, 100000,  45000,  60000,  49000,  38000,  64000,  38542,\n",
       "         36000,  46456,  63000,  52000,  62000,  70000,  65000,  42000,\n",
       "         80000,  64000, 105000,  51000,  80000,  80000,  60000,  50000,\n",
       "         43000,  19200,  87500, 160000,  25041, 105000,  77000,  40000,\n",
       "         45000,  52000, 130000,  56000,  41000, 119000,  50000,  51000,\n",
       "         61300, 125000,  80000,  54000, 112000, 125000,  85000,  45000,\n",
       "         45000,  70000,  70000,  67000,  90000, 100000,  37000,  85000,\n",
       "         42000,  75000,  89000,  60000,  54000,  80000,  42500,  47000,\n",
       "         72000,  60000,  47000,  54000, 100000, 160000,  45000,  53000,\n",
       "         36600,  70000,  56000,  57640,  33000,  30000,  80000,  55000,\n",
       "         96000,  66000,  78000,  62000,  62000,  42000,  61000,  50000,\n",
       "         80000,  63000, 150000,  98000,  45156, 185000,  92000,  38496,\n",
       "         39359,  28000, 108000,  38000,  81000,  40000,  54000,  80000,\n",
       "         40000,  60000, 170000,  75000,  65000,  67500,  60000,  31000,\n",
       "         52000,  36000,  73000, 110000,  67000,  38000,  88500,  45448,\n",
       "         81000,  68000,  68500,  74000,  30000,  50000, 144000,  48000,\n",
       "         32000,  50000,  80000,  57000,  39000,  95000,  38500,  48000,\n",
       "         50231,  35000,  90000,  58000,  60000,  48000,  70000,  64000,\n",
       "         41000,  68008, 168000, 126000,  24000,  64000,  96000,  86000,\n",
       "         76000, 150000,  32700,  32880,  45000,  90000,  41000,  67000,\n",
       "         72000,  72000, 117000,  68000,  80000,  55000,  69000,  90000,\n",
       "         60479,  78000,  56000,  40000,  77334, 165000,  57000,  36000,\n",
       "         39500,  35000, 113000,  40000,  30000,  60000,  80000,  70000,\n",
       "         54777,  97000,  79000,  41000,  95000,  52000, 178000,  34500,\n",
       "         53000,  73000,  48556,  62400,  60000,  60000,  39000,  38000,\n",
       "        110000,  59016,  65000,  90000, 120000,  95000,  72862, 129000,\n",
       "        150000, 125000,  95000,  86000,  65000, 110000,  40000,  80000,\n",
       "         75000,  64350,  64000,  45000,  60000,  38000,  70000, 112800,\n",
       "         45000,  74198,  72862,  65000, 130000,  40000,  26000,  65000,\n",
       "         82000,  50000, 132000,  21000,  85000,  67000,  64000,  35000,\n",
       "         47000,  27000,  34000,  93800,  53940,  26000,  50000,  71000,\n",
       "         65000, 128000,  53800,  47000,  35000,  84000, 177000,  55000,\n",
       "         34000,  36000,  65000,  70000,  60000,  70000, 115000,  67000,\n",
       "         40000,  55000,  40000, 102000,  62500,  26000, 100000,  55000,\n",
       "         56000,  67000,  44600,  74000,  48000,  42000,  54000,  35000,\n",
       "         72000, 125000,  43500, 135000, 195000,  49500,  69000, 125000,\n",
       "        112000,  60000,  58000,  45000,  48000,  41000,  44000,  70000,\n",
       "         70800, 120000,  32700,  45000,  30500,  85000,  37000, 150000,\n",
       "         78000, 100000,  54000,  45000,  58000,  41500,  94000,  54500,\n",
       "         52000,  56000,  30000,  51000,  44400,  35000,  87375,  53000,\n",
       "         48000, 175000,  60000, 100000,  53000,  34000,  41454,  94000,\n",
       "         70000,  45000,  60000, 150000,  40000,  58476,  70000,  78000,\n",
       "         75000,  80000,  34000, 150000,  45000,  70000, 117000, 119496,\n",
       "         50000,  75000,  70000, 140000,  70000, 100000,  75000,  85000,\n",
       "         55000,  62000,  47000,  30000,  80000,  44000,  90000,  66000,\n",
       "         32000,  87000,  80000,  81000,  52500,  65000,  41000, 126000,\n",
       "         55000,  25000, 110000,  49000,  35000,  68000,  95000,  76300,\n",
       "         75000, 105000,  21700,  50000,  62000,  60000,  46000,  43000,\n",
       "         75000,  70000,  13500,  77300,  82000,  58000, 110000, 180000,\n",
       "         54035,  65000,  97000,  70000,  51000, 100000,  78000,  58000,\n",
       "         46000,  30000,  61189, 116000,  70000,  75000,  32000, 120000,\n",
       "        130000,  38468,  60000,  36000, 120000,  55000,  75000,  47000,\n",
       "         40000,  44219,  35000,  73000, 106080,  95000,  60000,  80000,\n",
       "        165000,  27000,  89700,  52500,  80000,  35000,  40000,  71000,\n",
       "         53000,  60000,  69000,  46000,  40000,  65000,  75000,  75000,\n",
       "         24000,  75000,  28000,  45000,  72000,  98500,  55000, 110000,\n",
       "         36000,  38000,  72000,  67000,  50000,  34400, 146085,  36000,\n",
       "         49000,  52000,  35000,  48000,  55000,  71500,  60000,  72000,\n",
       "         60361,  64000,  55000,  62500,  36000,  70000,  60000,  32000,\n",
       "         71500,  69000,  30000,  85000,  80000,  67300,  40000, 130000,\n",
       "         80000,  21000,  45000,  19200,  96000,  75000,  75000,  55000,\n",
       "         42640, 130000,  50000,  65000,  75000,  36000, 140000,  60000,\n",
       "         65000,  90000,  95000,  51000, 113000,  65000,  85000,  96000,\n",
       "         20950,  39000,  51000, 110000,  39500,  80000,  31000,  65000,\n",
       "         42000,  65000,  62000,  84000,  66900,  85000,  27996, 185000,\n",
       "         73524,  48000,  82000,  80000,  87700,  79350,  55000,  60000,\n",
       "         55000,  28000,  66000,  75000,  72000,  75000,  60000, 110000,\n",
       "         65000,  78000,  43200, 150000,  42999,  44500,  84000, 108000,\n",
       "         35000,  52000,  43360,  35000,  33600,  32000,  48000,  31900,\n",
       "         62000,  40000,  70000, 140000, 120000,  50185,  51265,  30000,\n",
       "         65000,  84000,  46000,  85000,  65500,  85000,  56652, 150000,\n",
       "         92000,  53000,  33000,  70000,  65000,  42000, 125000, 108200,\n",
       "        100000,  54000, 102000,  67000,  88000,  56000,  50000,  90000,\n",
       "        150000, 115000,  50000,  92000,  93000,  65000,  64000,  23000,\n",
       "        110000,  32640, 100000, 153000,  93000,  70000,  78000,  42000,\n",
       "         41017,  69000,  60000, 120000,  57704,  50000,  78000,  49000,\n",
       "         75000,  30426, 180000,  30000, 129000,  36000,  43000,  35000,\n",
       "         76500, 150000,  32000,  46342, 152000,  68000,  40000,  70000,\n",
       "        105000,  38000,  85000,  97000,  65000, 132110,  85000,  94000,\n",
       "         28000,  42800,  38022,  51000,  65000,  50000,  35000,  75000,\n",
       "        100000,  56916,  51000,  85000,  50000,  35000,  80000,  75000,\n",
       "         35000,  77000,  85000,  55000,  44600,  55000,  60000,  92000],\n",
       "       dtype=int64),\n",
       " array([ 95000,  65000,  25000, ...,  50000,  75000, 100000], dtype=int64),\n",
       " array([ 58240, 131000,  31000, ...,  38147,  70000,  60000], dtype=int64)]"
      ]
     },
     "execution_count": 13,
     "metadata": {},
     "output_type": "execute_result"
    }
   ],
   "source": [
    "arr_bootstraps = [bootstrap_1000,bootstrap_10000,bootstrap_20000]\n",
    "arr_bootstraps"
   ]
  },
  {
   "cell_type": "code",
   "execution_count": 14,
   "metadata": {
    "colab": {
     "base_uri": "https://localhost:8080/"
    },
    "id": "U30kmU-e_wmc",
    "outputId": "ddd73531-e044-49bd-a8e9-5af3590f2e9a"
   },
   "outputs": [
    {
     "data": {
      "text/plain": [
       "3"
      ]
     },
     "execution_count": 14,
     "metadata": {},
     "output_type": "execute_result"
    }
   ],
   "source": [
    "len(arr_bootstraps)"
   ]
  },
  {
   "cell_type": "code",
   "execution_count": 15,
   "metadata": {
    "colab": {
     "base_uri": "https://localhost:8080/"
    },
    "id": "45kDlm-SAEwG",
    "outputId": "5a6d3c4d-9ea9-4b4f-a884-05d3607883e2"
   },
   "outputs": [
    {
     "name": "stdout",
     "output_type": "stream",
     "text": [
      "Bootstrap Stats for 1000 examples \n",
      "\n",
      "------------------------------------------------------------------------------\n",
      "\n",
      "Bootstrap STD :  32360.804857571213\n",
      "Bootstrap Mean :  69598.465\n",
      "Bootstrap Median:  64000.0\n",
      "Boostrap Bias,  -837.9465599999967\n",
      "Standard Error: 1023.3385026616583\n",
      "\n",
      "------------------------------------------------------------------------------\n",
      "\n",
      "Bootstrap Stats for 10000 examples \n",
      "\n",
      "------------------------------------------------------------------------------\n",
      "\n",
      "Bootstrap STD :  32886.414849362074\n",
      "Bootstrap Mean :  68334.1665\n",
      "Bootstrap Median:  60540.0\n",
      "Boostrap Bias,  426.3519399999932\n",
      "Standard Error: 328.86414849362075\n",
      "\n",
      "------------------------------------------------------------------------------\n",
      "\n",
      "Bootstrap Stats for 20000 examples \n",
      "\n",
      "------------------------------------------------------------------------------\n",
      "\n",
      "Bootstrap STD :  32762.134203063215\n",
      "Bootstrap Mean :  68475.93365\n",
      "Bootstrap Median:  61217.0\n",
      "Boostrap Bias,  284.5847899999935\n",
      "Standard Error: 231.66327261129723\n",
      "\n",
      "------------------------------------------------------------------------------\n",
      "\n"
     ]
    }
   ],
   "source": [
    "#Calculating a rolling mean:\n",
    "for i in range(len(arr_bootstraps)):\n",
    "    print('Bootstrap Stats for {} examples \\n'.format(len(arr_bootstraps[i])))\n",
    "    print('------------------------------------------------------------------------------\\n')\n",
    "    print('Bootstrap STD : ',np.std(arr_bootstraps[i],ddof=1))\n",
    "    print('Bootstrap Mean : ',np.mean(arr_bootstraps[i]))\n",
    "    print('Bootstrap Median: ',np.median(arr_bootstraps[i]))\n",
    "    print('Boostrap Bias, ',loans_income.x.mean() - np.mean(arr_bootstraps[i],axis=0))\n",
    "    print('Standard Error:',stats.sem(arr_bootstraps[i], ddof=1))\n",
    "    print('\\n------------------------------------------------------------------------------\\n')"
   ]
  },
  {
   "cell_type": "code",
   "execution_count": 16,
   "metadata": {
    "colab": {
     "base_uri": "https://localhost:8080/",
     "height": 295
    },
    "id": "dy8sQHm8AU_R",
    "outputId": "9ab96688-3030-48ac-bd4b-200beb12449c"
   },
   "outputs": [
    {
     "data": {
      "image/png": "[encoded data removed]",
      "text/plain": [
       "<Figure size 432x288 with 1 Axes>"
      ]
     },
     "metadata": {
      "needs_background": "light"
     },
     "output_type": "display_data"
    }
   ],
   "source": [
    "stats.probplot(loans_income.x, dist=\"norm\", plot=pylab)\n",
    "pylab.show()"
   ]
  },
  {
   "cell_type": "code",
   "execution_count": 20,
   "metadata": {
    "colab": {
     "base_uri": "https://localhost:8080/"
    },
    "id": "yzB9YA1JC-22",
    "outputId": "8f4f87ce-ef1a-40ac-9adc-fe28f28d399f"
   },
   "outputs": [
    {
     "data": {
      "text/html": [
       "<div>\n",
       "<style scoped>\n",
       "    .dataframe tbody tr th:only-of-type {\n",
       "        vertical-align: middle;\n",
       "    }\n",
       "\n",
       "    .dataframe tbody tr th {\n",
       "        vertical-align: top;\n",
       "    }\n",
       "\n",
       "    .dataframe thead th {\n",
       "        text-align: right;\n",
       "    }\n",
       "</style>\n",
       "<table border=\"1\" class=\"dataframe\">\n",
       "  <thead>\n",
       "    <tr style=\"text-align: right;\">\n",
       "      <th></th>\n",
       "      <th>Unnamed: 0</th>\n",
       "      <th>ADS</th>\n",
       "      <th>CA</th>\n",
       "      <th>MSFT</th>\n",
       "      <th>RHT</th>\n",
       "      <th>CTSH</th>\n",
       "      <th>CSC</th>\n",
       "      <th>EMC</th>\n",
       "      <th>IBM</th>\n",
       "      <th>XRX</th>\n",
       "      <th>...</th>\n",
       "      <th>WAT</th>\n",
       "      <th>ALXN</th>\n",
       "      <th>AMGN</th>\n",
       "      <th>BXLT</th>\n",
       "      <th>BIIB</th>\n",
       "      <th>CELG</th>\n",
       "      <th>GILD</th>\n",
       "      <th>REGN</th>\n",
       "      <th>VRTX</th>\n",
       "      <th>HSIC</th>\n",
       "    </tr>\n",
       "  </thead>\n",
       "  <tbody>\n",
       "    <tr>\n",
       "      <th>0</th>\n",
       "      <td>1993-01-29</td>\n",
       "      <td>0.0</td>\n",
       "      <td>0.060124</td>\n",
       "      <td>-0.022100</td>\n",
       "      <td>0.0</td>\n",
       "      <td>0.0</td>\n",
       "      <td>0.018897</td>\n",
       "      <td>0.007368</td>\n",
       "      <td>0.092165</td>\n",
       "      <td>0.259140</td>\n",
       "      <td>...</td>\n",
       "      <td>0.0</td>\n",
       "      <td>0.0</td>\n",
       "      <td>0.34716</td>\n",
       "      <td>0.0</td>\n",
       "      <td>0.04167</td>\n",
       "      <td>0.00000</td>\n",
       "      <td>0.015564</td>\n",
       "      <td>1.75</td>\n",
       "      <td>0.125</td>\n",
       "      <td>0.0</td>\n",
       "    </tr>\n",
       "    <tr>\n",
       "      <th>1</th>\n",
       "      <td>1993-02-01</td>\n",
       "      <td>0.0</td>\n",
       "      <td>-0.180389</td>\n",
       "      <td>0.027621</td>\n",
       "      <td>0.0</td>\n",
       "      <td>0.0</td>\n",
       "      <td>0.018889</td>\n",
       "      <td>0.018425</td>\n",
       "      <td>0.115207</td>\n",
       "      <td>-0.100775</td>\n",
       "      <td>...</td>\n",
       "      <td>0.0</td>\n",
       "      <td>0.0</td>\n",
       "      <td>-0.23144</td>\n",
       "      <td>0.0</td>\n",
       "      <td>0.00000</td>\n",
       "      <td>-0.01041</td>\n",
       "      <td>0.007782</td>\n",
       "      <td>1.25</td>\n",
       "      <td>0.125</td>\n",
       "      <td>0.0</td>\n",
       "    </tr>\n",
       "    <tr>\n",
       "      <th>2</th>\n",
       "      <td>1993-02-02</td>\n",
       "      <td>0.0</td>\n",
       "      <td>-0.120257</td>\n",
       "      <td>0.035900</td>\n",
       "      <td>0.0</td>\n",
       "      <td>0.0</td>\n",
       "      <td>-0.075573</td>\n",
       "      <td>0.029482</td>\n",
       "      <td>-0.023041</td>\n",
       "      <td>0.028796</td>\n",
       "      <td>...</td>\n",
       "      <td>0.0</td>\n",
       "      <td>0.0</td>\n",
       "      <td>-0.11572</td>\n",
       "      <td>0.0</td>\n",
       "      <td>0.00000</td>\n",
       "      <td>0.00000</td>\n",
       "      <td>-0.007792</td>\n",
       "      <td>-0.25</td>\n",
       "      <td>0.000</td>\n",
       "      <td>0.0</td>\n",
       "    </tr>\n",
       "  </tbody>\n",
       "</table>\n",
       "<p>3 rows × 518 columns</p>\n",
       "</div>"
      ],
      "text/plain": [
       "   Unnamed: 0  ADS        CA      MSFT  RHT  CTSH       CSC       EMC  \\\n",
       "0  1993-01-29  0.0  0.060124 -0.022100  0.0   0.0  0.018897  0.007368   \n",
       "1  1993-02-01  0.0 -0.180389  0.027621  0.0   0.0  0.018889  0.018425   \n",
       "2  1993-02-02  0.0 -0.120257  0.035900  0.0   0.0 -0.075573  0.029482   \n",
       "\n",
       "        IBM       XRX  ...  WAT  ALXN     AMGN  BXLT     BIIB     CELG  \\\n",
       "0  0.092165  0.259140  ...  0.0   0.0  0.34716   0.0  0.04167  0.00000   \n",
       "1  0.115207 -0.100775  ...  0.0   0.0 -0.23144   0.0  0.00000 -0.01041   \n",
       "2 -0.023041  0.028796  ...  0.0   0.0 -0.11572   0.0  0.00000  0.00000   \n",
       "\n",
       "       GILD  REGN   VRTX  HSIC  \n",
       "0  0.015564  1.75  0.125   0.0  \n",
       "1  0.007782  1.25  0.125   0.0  \n",
       "2 -0.007792 -0.25  0.000   0.0  \n",
       "\n",
       "[3 rows x 518 columns]"
      ]
     },
     "execution_count": 20,
     "metadata": {},
     "output_type": "execute_result"
    }
   ],
   "source": [
    "sp500_px = pd.read_csv('sp500_px.csv')\n",
    "sp500_px.head(3)"
   ]
  },
  {
   "cell_type": "code",
   "execution_count": 21,
   "metadata": {
    "colab": {
     "base_uri": "https://localhost:8080/"
    },
    "id": "QLjcTy46EdHM",
    "outputId": "cba176a4-9264-41e6-a772-9eb6fc889341"
   },
   "outputs": [
    {
     "data": {
      "text/plain": [
       "<bound method NDFrame.head of 0       0.0\n",
       "1       0.0\n",
       "2       0.0\n",
       "3       0.0\n",
       "4       0.0\n",
       "       ... \n",
       "1226    0.0\n",
       "1227    0.0\n",
       "1228    0.0\n",
       "1229    0.0\n",
       "1230    0.0\n",
       "Name: NFLX, Length: 1231, dtype: float64>"
      ]
     },
     "execution_count": 21,
     "metadata": {},
     "output_type": "execute_result"
    }
   ],
   "source": [
    "sp500_px['NFLX'].head"
   ]
  },
  {
   "cell_type": "code",
   "execution_count": 22,
   "metadata": {
    "id": "U3D_o1DAE5aT"
   },
   "outputs": [],
   "source": [
    "nflx = sp500_px.loc[:,'NFLX']"
   ]
  },
  {
   "cell_type": "code",
   "execution_count": 23,
   "metadata": {
    "colab": {
     "base_uri": "https://localhost:8080/",
     "height": 295
    },
    "id": "ENMCIW6FEvTz",
    "outputId": "0a1c1567-005f-4a76-91d0-9ef460b18fe2"
   },
   "outputs": [
    {
     "data": {
      "image/png": "[encoded data removed]",
      "text/plain": [
       "<Figure size 432x288 with 1 Axes>"
      ]
     },
     "metadata": {
      "needs_background": "light"
     },
     "output_type": "display_data"
    }
   ],
   "source": [
    "stats.probplot(nflx, dist=\"norm\", plot=pylab)\n",
    "pylab.show()"
   ]
  },
  {
   "cell_type": "code",
   "execution_count": 27,
   "metadata": {
    "colab": {
     "base_uri": "https://localhost:8080/",
     "height": 417
    },
    "id": "ITL3kiQxFYQZ",
    "outputId": "0052fcea-b616-49e5-ba83-3096b1923ee3"
   },
   "outputs": [
    {
     "name": "stderr",
     "output_type": "stream",
     "text": [
      "C:\\Users\\yashu\\anaconda3\\lib\\site-packages\\pandas\\core\\arraylike.py:364: RuntimeWarning: divide by zero encountered in log\n",
      "  result = getattr(ufunc, method)(*inputs, **kwargs)\n",
      "C:\\Users\\yashu\\anaconda3\\lib\\site-packages\\numpy\\lib\\function_base.py:1281: RuntimeWarning: invalid value encountered in subtract\n",
      "  a = op(a[slice1], a[slice2])\n"
     ]
    },
    {
     "data": {
      "image/png": "[encoded data removed]",
      "text/plain": [
       "<Figure size 432x288 with 1 Axes>"
      ]
     },
     "metadata": {
      "needs_background": "light"
     },
     "output_type": "display_data"
    }
   ],
   "source": [
    "# After standardizing tread\n",
    "\n",
    "treated_nflx = np.diff(np.log(nflx))\n",
    "stats.probplot(treated_nflx, dist=\"norm\", plot=pylab,fit=True)\n",
    "pylab.show()"
   ]
  },
  {
   "cell_type": "code",
   "execution_count": 28,
   "metadata": {
    "colab": {
     "base_uri": "https://localhost:8080/"
    },
    "id": "uNSQBN_7FZIt",
    "outputId": "79da6442-39ca-4ab5-a0cd-20c33a9608e5"
   },
   "outputs": [
    {
     "name": "stdout",
     "output_type": "stream",
     "text": [
      "0.002\n"
     ]
    }
   ],
   "source": [
    "n, p = 10, .5  # number of trials, probability of each trial\n",
    "s = np.random.binomial(n, p, 1000)\n",
    "# result of flipping a coin 10 times, tested 1000 times.\n",
    "\n",
    "#What is probablity of getting zero success in the 1000 test\n",
    "\n",
    "print(sum(s==0)/1000)"
   ]
  }
 ],
 "metadata": {
  "colab": {
   "collapsed_sections": [],
   "name": "05_Data_and_Sampling_Distributions.ipynb",
   "provenance": []
  },
  "kernelspec": {
   "display_name": "Python 3 (ipykernel)",
   "language": "python",
   "name": "python3"
  },
  "language_info": {
   "codemirror_mode": {
    "name": "ipython",
    "version": 3
   },
   "file_extension": ".py",
   "mimetype": "text/x-python",
   "name": "python",
   "nbconvert_exporter": "python",
   "pygments_lexer": "ipython3",
   "version": "3.9.7"
  }
 },
 "nbformat": 4,
 "nbformat_minor": 4
}
