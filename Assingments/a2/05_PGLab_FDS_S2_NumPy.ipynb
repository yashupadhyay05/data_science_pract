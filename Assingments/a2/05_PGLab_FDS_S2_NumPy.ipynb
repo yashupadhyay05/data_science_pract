{
 "cells": [
  {
   "cell_type": "code",
   "execution_count": 1,
   "metadata": {
    "colab": {
     "base_uri": "https://localhost:8080/",
     "height": 35
    },
    "id": "iOOXBHoicsb6",
    "outputId": "db109dd8-1eec-405d-9772-3ffc4d00f657"
   },
   "outputs": [
    {
     "data": {
      "text/plain": [
       "'1.21.2'"
      ]
     },
     "execution_count": 1,
     "metadata": {},
     "output_type": "execute_result"
    }
   ],
   "source": [
    "import numpy\n",
    "numpy.__version__"
   ]
  },
  {
   "cell_type": "code",
   "execution_count": 2,
   "metadata": {
    "colab": {
     "base_uri": "https://localhost:8080/"
    },
    "id": "3TFiWR6oc6AX",
    "outputId": "6a576f91-4655-40e3-e613-aae64047afb6"
   },
   "outputs": [
    {
     "data": {
      "text/plain": [
       "[]"
      ]
     },
     "execution_count": 2,
     "metadata": {},
     "output_type": "execute_result"
    }
   ],
   "source": [
    "list1=[]\n",
    "list1"
   ]
  },
  {
   "cell_type": "code",
   "execution_count": 3,
   "metadata": {
    "colab": {
     "base_uri": "https://localhost:8080/"
    },
    "id": "QLky9NiTc6Tr",
    "outputId": "e2eb7d4e-fe23-4d15-a9e1-b6beae9ff3a7"
   },
   "outputs": [
    {
     "data": {
      "text/plain": [
       "list"
      ]
     },
     "execution_count": 3,
     "metadata": {},
     "output_type": "execute_result"
    }
   ],
   "source": [
    "type(list1)"
   ]
  },
  {
   "cell_type": "code",
   "execution_count": 4,
   "metadata": {
    "colab": {
     "base_uri": "https://localhost:8080/"
    },
    "id": "5gB8UG-vc6sR",
    "outputId": "e7a96e93-aee8-41bb-a54e-a20b5b23aba4"
   },
   "outputs": [
    {
     "data": {
      "text/plain": [
       "[0, 1, 2, 3, 4, 5, 6, 7, 8, 9]"
      ]
     },
     "execution_count": 4,
     "metadata": {},
     "output_type": "execute_result"
    }
   ],
   "source": [
    "list2 = list(range(10))\n",
    "list2"
   ]
  },
  {
   "cell_type": "code",
   "execution_count": 5,
   "metadata": {
    "colab": {
     "base_uri": "https://localhost:8080/"
    },
    "id": "7-8rXZKgdb3O",
    "outputId": "1b4f5f03-fc42-4409-f749-85800a431bcc"
   },
   "outputs": [
    {
     "data": {
      "text/plain": [
       "['0', '1', '2', '3', '4', '5', '6', '7', '8', '9']"
      ]
     },
     "execution_count": 5,
     "metadata": {},
     "output_type": "execute_result"
    }
   ],
   "source": [
    "list3 = [str(c) for c in list2]\n",
    "list3"
   ]
  },
  {
   "cell_type": "code",
   "execution_count": 6,
   "metadata": {
    "colab": {
     "base_uri": "https://localhost:8080/"
    },
    "id": "eb2DLkJCdiFr",
    "outputId": "d1a420f9-b52a-45e9-80f7-7d3b4bbdffaf"
   },
   "outputs": [
    {
     "data": {
      "text/plain": [
       "[1, 10.2, 'c', 'Amit', True]"
      ]
     },
     "execution_count": 6,
     "metadata": {},
     "output_type": "execute_result"
    }
   ],
   "source": [
    "list4 = [1,10.2,'c','Amit',True]\n",
    "list4"
   ]
  },
  {
   "cell_type": "code",
   "execution_count": 7,
   "metadata": {
    "colab": {
     "base_uri": "https://localhost:8080/"
    },
    "id": "bjOr2wCMeKsv",
    "outputId": "8954f210-4100-45dd-ce66-f9a03b8eb3a9"
   },
   "outputs": [
    {
     "data": {
      "text/plain": [
       "list"
      ]
     },
     "execution_count": 7,
     "metadata": {},
     "output_type": "execute_result"
    }
   ],
   "source": [
    "type(list4)"
   ]
  },
  {
   "cell_type": "code",
   "execution_count": 8,
   "metadata": {
    "colab": {
     "base_uri": "https://localhost:8080/"
    },
    "id": "N6RKsePJe4df",
    "outputId": "b5be5e4c-288b-437e-9f11-3a4325cf7eb1"
   },
   "outputs": [
    {
     "data": {
      "text/plain": [
       "[int, float, str, str, bool]"
      ]
     },
     "execution_count": 8,
     "metadata": {},
     "output_type": "execute_result"
    }
   ],
   "source": [
    "[type(item) for item in list4]"
   ]
  },
  {
   "cell_type": "code",
   "execution_count": 9,
   "metadata": {
    "colab": {
     "base_uri": "https://localhost:8080/"
    },
    "id": "g5F0VIX9fc6P",
    "outputId": "c24cbd88-da01-4e10-f165-ab44b64828ee"
   },
   "outputs": [
    {
     "data": {
      "text/plain": [
       "array('i', [0, 1, 2, 3, 4, 5, 6, 7, 8, 9])"
      ]
     },
     "execution_count": 9,
     "metadata": {},
     "output_type": "execute_result"
    }
   ],
   "source": [
    "import array as ar\n",
    "L = list(range(10))\n",
    "A = ar.array('i', L)\n",
    "A"
   ]
  },
  {
   "cell_type": "code",
   "execution_count": 10,
   "metadata": {
    "colab": {
     "base_uri": "https://localhost:8080/"
    },
    "id": "VAUtxM8yjavT",
    "outputId": "27149fe8-002e-4c5c-e881-43c3f212ff74"
   },
   "outputs": [
    {
     "data": {
      "text/plain": [
       "array([1, 4, 2, 5, 3])"
      ]
     },
     "execution_count": 10,
     "metadata": {},
     "output_type": "execute_result"
    }
   ],
   "source": [
    "import numpy as np\n",
    "np.array([1,4,2,5,3])"
   ]
  },
  {
   "cell_type": "code",
   "execution_count": 11,
   "metadata": {
    "colab": {
     "base_uri": "https://localhost:8080/"
    },
    "id": "rta7-0oNjz3h",
    "outputId": "094b2e34-2bcb-4aa0-f2f3-70b536a08574"
   },
   "outputs": [
    {
     "data": {
      "text/plain": [
       "array([10.1,  2. ,  3. ,  4. ])"
      ]
     },
     "execution_count": 11,
     "metadata": {},
     "output_type": "execute_result"
    }
   ],
   "source": [
    "np.array([10.1,2,3,4])"
   ]
  },
  {
   "cell_type": "code",
   "execution_count": 12,
   "metadata": {
    "colab": {
     "base_uri": "https://localhost:8080/"
    },
    "id": "W0ieQYf6kNkG",
    "outputId": "d95cf1db-b362-4713-e9b3-7a66f26cee56"
   },
   "outputs": [
    {
     "data": {
      "text/plain": [
       "array([1., 2., 3., 4.], dtype=float32)"
      ]
     },
     "execution_count": 12,
     "metadata": {},
     "output_type": "execute_result"
    }
   ],
   "source": [
    "np.array([1,2,3,4], dtype='float32')"
   ]
  },
  {
   "cell_type": "code",
   "execution_count": 13,
   "metadata": {
    "colab": {
     "base_uri": "https://localhost:8080/"
    },
    "id": "c45mzOtmkfuj",
    "outputId": "23bcdd48-6a59-4e51-e7fa-39043796aa98"
   },
   "outputs": [
    {
     "data": {
      "text/plain": [
       "array([[2, 3, 4],\n",
       "       [4, 5, 6],\n",
       "       [6, 7, 8]])"
      ]
     },
     "execution_count": 13,
     "metadata": {},
     "output_type": "execute_result"
    }
   ],
   "source": [
    "np.array([range(i, i+3) for i in [2,4,6]])"
   ]
  },
  {
   "cell_type": "code",
   "execution_count": 14,
   "metadata": {
    "colab": {
     "base_uri": "https://localhost:8080/"
    },
    "id": "JxRpLwIllUGM",
    "outputId": "110245a2-247a-4c00-c856-0b486e8fc9ef"
   },
   "outputs": [
    {
     "data": {
      "text/plain": [
       "array([0, 0, 0, 0, 0, 0, 0, 0, 0, 0])"
      ]
     },
     "execution_count": 14,
     "metadata": {},
     "output_type": "execute_result"
    }
   ],
   "source": [
    "np.zeros(10, dtype=int)"
   ]
  },
  {
   "cell_type": "code",
   "execution_count": 15,
   "metadata": {
    "colab": {
     "base_uri": "https://localhost:8080/"
    },
    "id": "SqmcYeEol6Jv",
    "outputId": "8649cb21-f98d-4bc1-8929-067014480edb"
   },
   "outputs": [
    {
     "data": {
      "text/plain": [
       "array([[0., 0., 0., 0., 0.],\n",
       "       [0., 0., 0., 0., 0.]], dtype=float32)"
      ]
     },
     "execution_count": 15,
     "metadata": {},
     "output_type": "execute_result"
    }
   ],
   "source": [
    "np.zeros((2,5),dtype='float32')"
   ]
  },
  {
   "cell_type": "code",
   "execution_count": 16,
   "metadata": {
    "colab": {
     "base_uri": "https://localhost:8080/"
    },
    "id": "9qgtQEzPmarb",
    "outputId": "696a58ba-7700-4b2e-bd30-6b5cdfc46a78"
   },
   "outputs": [
    {
     "data": {
      "text/plain": [
       "array([[1., 1., 1., 1., 1.],\n",
       "       [1., 1., 1., 1., 1.]])"
      ]
     },
     "execution_count": 16,
     "metadata": {},
     "output_type": "execute_result"
    }
   ],
   "source": [
    "np.ones((2,5),dtype=float)"
   ]
  },
  {
   "cell_type": "code",
   "execution_count": 17,
   "metadata": {
    "colab": {
     "base_uri": "https://localhost:8080/"
    },
    "id": "7jisxmrPm1kn",
    "outputId": "f68a6037-9a47-4931-f28e-a9a202558032"
   },
   "outputs": [
    {
     "data": {
      "text/plain": [
       "array([[3., 3., 3., 3., 3.],\n",
       "       [3., 3., 3., 3., 3.],\n",
       "       [3., 3., 3., 3., 3.]])"
      ]
     },
     "execution_count": 17,
     "metadata": {},
     "output_type": "execute_result"
    }
   ],
   "source": [
    "np.full((3,5), 3.0)"
   ]
  },
  {
   "cell_type": "code",
   "execution_count": 18,
   "metadata": {
    "colab": {
     "base_uri": "https://localhost:8080/"
    },
    "id": "pFJQj838nEs-",
    "outputId": "e4d4f18f-fa34-4fca-d123-584b676cb7f3"
   },
   "outputs": [
    {
     "data": {
      "text/plain": [
       "array([ 0,  3,  6,  9, 12, 15, 18])"
      ]
     },
     "execution_count": 18,
     "metadata": {},
     "output_type": "execute_result"
    }
   ],
   "source": [
    "np.arange(0,20,3)"
   ]
  },
  {
   "cell_type": "code",
   "execution_count": 19,
   "metadata": {
    "colab": {
     "base_uri": "https://localhost:8080/"
    },
    "id": "CTZb1Vibnd22",
    "outputId": "010a5592-3b77-475e-be61-c89d0eec4ff1"
   },
   "outputs": [
    {
     "data": {
      "text/plain": [
       "array([0. , 0.5, 1. , 1.5])"
      ]
     },
     "execution_count": 19,
     "metadata": {},
     "output_type": "execute_result"
    }
   ],
   "source": [
    "np.arange(0,2,0.5)"
   ]
  },
  {
   "cell_type": "code",
   "execution_count": 20,
   "metadata": {
    "colab": {
     "base_uri": "https://localhost:8080/"
    },
    "id": "MS7a8S3TocZs",
    "outputId": "adb8fd9c-9920-484f-f85e-4e47a07007db"
   },
   "outputs": [
    {
     "data": {
      "text/plain": [
       "array([0.        , 0.11111111, 0.22222222, 0.33333333, 0.44444444,\n",
       "       0.55555556, 0.66666667, 0.77777778, 0.88888889, 1.        ])"
      ]
     },
     "execution_count": 20,
     "metadata": {},
     "output_type": "execute_result"
    }
   ],
   "source": [
    "np.linspace(0,1,10)"
   ]
  },
  {
   "cell_type": "code",
   "execution_count": 21,
   "metadata": {
    "colab": {
     "base_uri": "https://localhost:8080/"
    },
    "id": "nMM0G--KohFi",
    "outputId": "8ed0964f-71ee-4683-88fb-3baf26b93e64"
   },
   "outputs": [
    {
     "data": {
      "text/plain": [
       "array([[0.27041242, 0.9303151 , 0.80537169],\n",
       "       [0.42050318, 0.63223447, 0.86257513],\n",
       "       [0.62901824, 0.0298288 , 0.96504088]])"
      ]
     },
     "execution_count": 21,
     "metadata": {},
     "output_type": "execute_result"
    }
   ],
   "source": [
    "np.random.random((3,3))"
   ]
  },
  {
   "cell_type": "code",
   "execution_count": 22,
   "metadata": {
    "colab": {
     "base_uri": "https://localhost:8080/"
    },
    "id": "ivDYAb6NpH_H",
    "outputId": "e65f6b3e-c267-42d9-c85b-d83571860522"
   },
   "outputs": [
    {
     "data": {
      "text/plain": [
       "array([[-1.24937266,  0.65512589, -0.67686498],\n",
       "       [ 0.42813502,  0.44243944,  0.10409806],\n",
       "       [ 0.55189361,  1.3329669 ,  0.45173076]])"
      ]
     },
     "execution_count": 22,
     "metadata": {},
     "output_type": "execute_result"
    }
   ],
   "source": [
    "np.random.normal(0,1,(3,3))"
   ]
  },
  {
   "cell_type": "code",
   "execution_count": 23,
   "metadata": {
    "colab": {
     "base_uri": "https://localhost:8080/"
    },
    "id": "Iaq_9ABRprfP",
    "outputId": "53dd3783-df53-41cd-d01f-d645edeecce1"
   },
   "outputs": [
    {
     "data": {
      "text/plain": [
       "array([[3, 0, 5],\n",
       "       [1, 8, 1],\n",
       "       [6, 5, 4]])"
      ]
     },
     "execution_count": 23,
     "metadata": {},
     "output_type": "execute_result"
    }
   ],
   "source": [
    "np.random.randint(0,10,(3,3))"
   ]
  },
  {
   "cell_type": "code",
   "execution_count": 24,
   "metadata": {
    "colab": {
     "base_uri": "https://localhost:8080/"
    },
    "id": "ml-nk57rqCqY",
    "outputId": "1ee738df-d588-42fc-85f7-08a9541801fb"
   },
   "outputs": [
    {
     "data": {
      "text/plain": [
       "array([[1., 0., 0.],\n",
       "       [0., 1., 0.],\n",
       "       [0., 0., 1.]])"
      ]
     },
     "execution_count": 24,
     "metadata": {},
     "output_type": "execute_result"
    }
   ],
   "source": [
    "np.eye(3)"
   ]
  },
  {
   "cell_type": "code",
   "execution_count": 25,
   "metadata": {
    "colab": {
     "base_uri": "https://localhost:8080/"
    },
    "id": "heWvG6idqb9t",
    "outputId": "53de3bc0-2e13-41f9-c52b-3a7f95102749"
   },
   "outputs": [
    {
     "data": {
      "text/plain": [
       "array([1., 1., 1.])"
      ]
     },
     "execution_count": 25,
     "metadata": {},
     "output_type": "execute_result"
    }
   ],
   "source": [
    "np.empty(3)"
   ]
  },
  {
   "cell_type": "code",
   "execution_count": 26,
   "metadata": {
    "colab": {
     "base_uri": "https://localhost:8080/"
    },
    "id": "jWTd7p3-qflA",
    "outputId": "6f373b96-a61a-4551-d2d3-19b50d19205e"
   },
   "outputs": [
    {
     "data": {
      "text/plain": [
       "array([ 6, 27,  7, 37,  1, 12])"
      ]
     },
     "execution_count": 26,
     "metadata": {},
     "output_type": "execute_result"
    }
   ],
   "source": [
    "import numpy as np\n",
    "np.random.seed(40)\n",
    "\n",
    "x1 = np.random.randint(50, size=6)\n",
    "x1"
   ]
  },
  {
   "cell_type": "code",
   "execution_count": 27,
   "metadata": {
    "colab": {
     "base_uri": "https://localhost:8080/"
    },
    "id": "Ayeuf6lSr15p",
    "outputId": "39685701-3b0b-4d31-d6c7-2f3aa6f08819"
   },
   "outputs": [
    {
     "data": {
      "text/plain": [
       "array([[[  8,  24,  67, 103,  87,  79, 176],\n",
       "        [138,  94, 180,  98,  53,  66,  14],\n",
       "        [ 34,  24, 143, 107,  60,  58, 144],\n",
       "        [137,  93,  86, 130, 155, 108, 132],\n",
       "        [159, 129, 141, 100,   4,  91, 187],\n",
       "        [ 67, 135,  49, 175, 193,  61,  14]],\n",
       "\n",
       "       [[183, 199,  80,   2, 121, 105, 147],\n",
       "        [ 63, 181,  27,  56, 113, 158, 176],\n",
       "        [ 47, 167, 109,  38, 172,  18, 192],\n",
       "        [184, 162, 181,  17,  72,  13, 106],\n",
       "        [ 30,  17,  53,  68, 178,  91, 181],\n",
       "        [ 78,   0,  13, 185, 106, 131,  70]],\n",
       "\n",
       "       [[131, 138, 188, 131, 105, 176, 180],\n",
       "        [ 43,  36,   5,  71,  38,  94, 170],\n",
       "        [ 84,  95, 114, 119,  76,  33,  58],\n",
       "        [102, 170, 150,   0, 183, 147,  53],\n",
       "        [196, 190,  50, 196, 163, 151,   9],\n",
       "        [176,  21, 153, 182,   6, 165, 102]],\n",
       "\n",
       "       [[122, 116, 186,  39, 107,  51,  30],\n",
       "        [121,  66, 152, 183,  17,  45,  89],\n",
       "        [173,  35,  16,  12,  86, 109,  67],\n",
       "        [ 20, 138,   8, 158, 140, 146,  93],\n",
       "        [119,  92,  44,  57, 127,   0,  73],\n",
       "        [182,  66, 144, 133, 179,  90,  34]],\n",
       "\n",
       "       [[195,  94, 182,  77, 129,  14, 115],\n",
       "        [ 33, 148, 168,  24, 186,  28, 135],\n",
       "        [  2,  63, 113, 130, 145,  74, 181],\n",
       "        [ 30,  67, 156, 165,  82, 145, 138],\n",
       "        [141,  81, 117,  25, 194, 143, 108],\n",
       "        [122,  11, 101,  38, 116,  22,  55]]])"
      ]
     },
     "execution_count": 27,
     "metadata": {},
     "output_type": "execute_result"
    }
   ],
   "source": [
    "np.random.seed(100)\n",
    "x2 = np.random.randint(200,size=(5,6,7))\n",
    "x2"
   ]
  },
  {
   "cell_type": "code",
   "execution_count": 28,
   "metadata": {
    "colab": {
     "base_uri": "https://localhost:8080/"
    },
    "id": "zpm6uz4Vs5Lm",
    "outputId": "749c186d-4d01-40d8-ecee-d96db1908521"
   },
   "outputs": [
    {
     "data": {
      "text/plain": [
       "array([[[[  8,  24,  67],\n",
       "         [103,  87,  79]],\n",
       "\n",
       "        [[176, 138,  94],\n",
       "         [180,  98,  53]]],\n",
       "\n",
       "\n",
       "       [[[ 66,  14,  34],\n",
       "         [ 24, 143, 107]],\n",
       "\n",
       "        [[ 60,  58, 144],\n",
       "         [137,  93,  86]]],\n",
       "\n",
       "\n",
       "       [[[130, 155, 108],\n",
       "         [132, 159, 129]],\n",
       "\n",
       "        [[141, 100,   4],\n",
       "         [ 91, 187,  67]]],\n",
       "\n",
       "\n",
       "       [[[135,  49, 175],\n",
       "         [193,  61,  14]],\n",
       "\n",
       "        [[183, 199,  80],\n",
       "         [  2, 121, 105]]]])"
      ]
     },
     "execution_count": 28,
     "metadata": {},
     "output_type": "execute_result"
    }
   ],
   "source": [
    "np.random.seed(100)\n",
    "x3 = np.random.randint(200, size=(4,2,2,3))\n",
    "x3"
   ]
  },
  {
   "cell_type": "code",
   "execution_count": 29,
   "metadata": {
    "colab": {
     "base_uri": "https://localhost:8080/"
    },
    "id": "OODX1W0Yt_u0",
    "outputId": "ac5bc3ae-fab1-44c8-c885-f5e941fba1f3"
   },
   "outputs": [
    {
     "data": {
      "text/plain": [
       "array([[[[[  8,  24,  67],\n",
       "          [103,  87,  79]],\n",
       "\n",
       "         [[176, 138,  94],\n",
       "          [180,  98,  53]]],\n",
       "\n",
       "\n",
       "        [[[ 66,  14,  34],\n",
       "          [ 24, 143, 107]],\n",
       "\n",
       "         [[ 60,  58, 144],\n",
       "          [137,  93,  86]]],\n",
       "\n",
       "\n",
       "        [[[130, 155, 108],\n",
       "          [132, 159, 129]],\n",
       "\n",
       "         [[141, 100,   4],\n",
       "          [ 91, 187,  67]]],\n",
       "\n",
       "\n",
       "        [[[135,  49, 175],\n",
       "          [193,  61,  14]],\n",
       "\n",
       "         [[183, 199,  80],\n",
       "          [  2, 121, 105]]]],\n",
       "\n",
       "\n",
       "\n",
       "       [[[[147,  63, 181],\n",
       "          [ 27,  56, 113]],\n",
       "\n",
       "         [[158, 176,  47],\n",
       "          [167, 109,  38]]],\n",
       "\n",
       "\n",
       "        [[[172,  18, 192],\n",
       "          [184, 162, 181]],\n",
       "\n",
       "         [[ 17,  72,  13],\n",
       "          [106,  30,  17]]],\n",
       "\n",
       "\n",
       "        [[[ 53,  68, 178],\n",
       "          [ 91, 181,  78]],\n",
       "\n",
       "         [[  0,  13, 185],\n",
       "          [106, 131,  70]]],\n",
       "\n",
       "\n",
       "        [[[131, 138, 188],\n",
       "          [131, 105, 176]],\n",
       "\n",
       "         [[180,  43,  36],\n",
       "          [  5,  71,  38]]]]])"
      ]
     },
     "execution_count": 29,
     "metadata": {},
     "output_type": "execute_result"
    }
   ],
   "source": [
    "np.random.seed(100)\n",
    "x4 = np.random.randint(200, size=(2,4,2,2,3))\n",
    "x4"
   ]
  },
  {
   "cell_type": "code",
   "execution_count": 30,
   "metadata": {
    "colab": {
     "base_uri": "https://localhost:8080/"
    },
    "id": "ytimx1EOuMC7",
    "outputId": "02729a67-10e7-4205-d93f-63905a6d053e"
   },
   "outputs": [
    {
     "data": {
      "text/plain": [
       "(5, 6, 7)"
      ]
     },
     "execution_count": 30,
     "metadata": {},
     "output_type": "execute_result"
    }
   ],
   "source": [
    "x2.shape"
   ]
  },
  {
   "cell_type": "code",
   "execution_count": 31,
   "metadata": {
    "colab": {
     "base_uri": "https://localhost:8080/"
    },
    "id": "JMpPA_vhwCIQ",
    "outputId": "4bb07cd3-184e-4e46-b5a1-0efb051ffa84"
   },
   "outputs": [
    {
     "data": {
      "text/plain": [
       "3"
      ]
     },
     "execution_count": 31,
     "metadata": {},
     "output_type": "execute_result"
    }
   ],
   "source": [
    "x2.ndim"
   ]
  },
  {
   "cell_type": "code",
   "execution_count": 32,
   "metadata": {
    "colab": {
     "base_uri": "https://localhost:8080/"
    },
    "id": "57HZSfd7wP0i",
    "outputId": "200ba0f8-ca10-4b75-e495-bb9bfccffd4d"
   },
   "outputs": [
    {
     "data": {
      "text/plain": [
       "210"
      ]
     },
     "execution_count": 32,
     "metadata": {},
     "output_type": "execute_result"
    }
   ],
   "source": [
    "x2.size"
   ]
  },
  {
   "cell_type": "code",
   "execution_count": 33,
   "metadata": {
    "colab": {
     "base_uri": "https://localhost:8080/"
    },
    "id": "QH6YH2FCwTkJ",
    "outputId": "f057c2e6-7df8-4553-e372-5b5d651bab61"
   },
   "outputs": [
    {
     "data": {
      "text/plain": [
       "840"
      ]
     },
     "execution_count": 33,
     "metadata": {},
     "output_type": "execute_result"
    }
   ],
   "source": [
    "x2.nbytes"
   ]
  },
  {
   "cell_type": "code",
   "execution_count": 34,
   "metadata": {
    "colab": {
     "base_uri": "https://localhost:8080/"
    },
    "id": "4TEDMTdVwgEp",
    "outputId": "f2e16cfe-6d71-4e1f-a4e2-985e0e048295"
   },
   "outputs": [
    {
     "data": {
      "text/plain": [
       "4"
      ]
     },
     "execution_count": 34,
     "metadata": {},
     "output_type": "execute_result"
    }
   ],
   "source": [
    "x2.itemsize"
   ]
  }
 ],
 "metadata": {
  "colab": {
   "collapsed_sections": [],
   "name": "PGLab FDS S2 NumPy.ipynb",
   "provenance": [],
   "toc_visible": true
  },
  "kernelspec": {
   "display_name": "Python 3 (ipykernel)",
   "language": "python",
   "name": "python3"
  },
  "language_info": {
   "codemirror_mode": {
    "name": "ipython",
    "version": 3
   },
   "file_extension": ".py",
   "mimetype": "text/x-python",
   "name": "python",
   "nbconvert_exporter": "python",
   "pygments_lexer": "ipython3",
   "version": "3.8.12"
  }
 },
 "nbformat": 4,
 "nbformat_minor": 4
}
