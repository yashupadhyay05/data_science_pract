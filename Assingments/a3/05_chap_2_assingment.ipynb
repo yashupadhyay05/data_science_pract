{
 "cells": [
  {
   "cell_type": "markdown",
   "metadata": {
    "id": "SskVXwjU-Uqx"
   },
   "source": [
    "**CHAPTER 2**"
   ]
  },
  {
   "cell_type": "markdown",
   "metadata": {
    "id": "8PSutN13CuJ5"
   },
   "source": [
    "## chapter 2 world alcohol consumption data"
   ]
  },
  {
   "cell_type": "code",
   "execution_count": 8,
   "metadata": {
    "colab": {
     "base_uri": "https://localhost:8080/"
    },
    "id": "VmB3E2Q-yG6p",
    "outputId": "d2dcc0e7-b2be-4093-9ea0-526a93d6167b"
   },
   "outputs": [
    {
     "name": "stdout",
     "output_type": "stream",
     "text": [
      "         country  beer_servings  spirit_servings  wine_servings  \\\n",
      "0    Afghanistan              0                0              0   \n",
      "1        Albania             89              132             54   \n",
      "2        Algeria             25                0             14   \n",
      "3        Andorra            245              138            312   \n",
      "4         Angola            217               57             45   \n",
      "..           ...            ...              ...            ...   \n",
      "188    Venezuela            333              100              3   \n",
      "189      Vietnam            111                2              1   \n",
      "190        Yemen              6                0              0   \n",
      "191       Zambia             32               19              4   \n",
      "192     Zimbabwe             64               18              4   \n",
      "\n",
      "     total_litres_of_pure_alcohol continent  \n",
      "0                             0.0        AS  \n",
      "1                             4.9        EU  \n",
      "2                             0.7        AF  \n",
      "3                            12.4        EU  \n",
      "4                             5.9        AF  \n",
      "..                            ...       ...  \n",
      "188                           7.7        SA  \n",
      "189                           2.0        AS  \n",
      "190                           0.1        AS  \n",
      "191                           2.5        AF  \n",
      "192                           4.7        AF  \n",
      "\n",
      "[193 rows x 6 columns]\n"
     ]
    }
   ],
   "source": [
    "import pandas as pd\n",
    "drinks = pd.read_csv(r\"C:\\Users\\yashu\\Desktop\\fds practs\\Assingments\\a3\\drinks.csv\")\n",
    "print(drinks)"
   ]
  },
  {
   "cell_type": "code",
   "execution_count": 9,
   "metadata": {
    "colab": {
     "base_uri": "https://localhost:8080/"
    },
    "id": "6r-Q75OW-CuB",
    "outputId": "ba0d7a21-49a4-4f73-b574-4be33e395bbd"
   },
   "outputs": [
    {
     "data": {
      "text/plain": [
       "count     170\n",
       "unique      5\n",
       "top        AF\n",
       "freq       53\n",
       "Name: continent, dtype: object"
      ]
     },
     "execution_count": 9,
     "metadata": {},
     "output_type": "execute_result"
    }
   ],
   "source": [
    "drinks['continent'].describe()"
   ]
  },
  {
   "cell_type": "code",
   "execution_count": 10,
   "metadata": {
    "colab": {
     "base_uri": "https://localhost:8080/"
    },
    "id": "7Da3seX9-E3p",
    "outputId": "cd923762-27c1-4af5-bcfd-41d9abff589f"
   },
   "outputs": [
    {
     "data": {
      "text/plain": [
       "count    193.000000\n",
       "mean     106.160622\n",
       "std      101.143103\n",
       "min        0.000000\n",
       "25%       20.000000\n",
       "50%       76.000000\n",
       "75%      188.000000\n",
       "max      376.000000\n",
       "Name: beer_servings, dtype: float64"
      ]
     },
     "execution_count": 10,
     "metadata": {},
     "output_type": "execute_result"
    }
   ],
   "source": [
    "drinks['beer_servings'].describe()"
   ]
  },
  {
   "cell_type": "code",
   "execution_count": 11,
   "metadata": {
    "colab": {
     "base_uri": "https://localhost:8080/"
    },
    "id": "HSqEdnj9-Ga5",
    "outputId": "b0165ee8-0a23-44dd-e4f9-45822f0ee08f"
   },
   "outputs": [
    {
     "data": {
      "text/plain": [
       "count    193.000000\n",
       "mean       4.717098\n",
       "std        3.773298\n",
       "min        0.000000\n",
       "25%        1.300000\n",
       "50%        4.200000\n",
       "75%        7.200000\n",
       "max       14.400000\n",
       "Name: total_litres_of_pure_alcohol, dtype: float64"
      ]
     },
     "execution_count": 11,
     "metadata": {},
     "output_type": "execute_result"
    }
   ],
   "source": [
    "drinks['total_litres_of_pure_alcohol'].describe()"
   ]
  },
  {
   "cell_type": "code",
   "execution_count": 12,
   "metadata": {
    "colab": {
     "base_uri": "https://localhost:8080/"
    },
    "id": "QIYMLoUP-KtR",
    "outputId": "66574eb5-1ccf-4e80-facc-9e8ad60e3170"
   },
   "outputs": [
    {
     "data": {
      "text/plain": [
       "count    193.000000\n",
       "mean      49.450777\n",
       "std       79.697598\n",
       "min        0.000000\n",
       "25%        1.000000\n",
       "50%        8.000000\n",
       "75%       59.000000\n",
       "max      370.000000\n",
       "Name: wine_servings, dtype: float64"
      ]
     },
     "execution_count": 12,
     "metadata": {},
     "output_type": "execute_result"
    }
   ],
   "source": [
    "drinks['wine_servings'].describe()"
   ]
  },
  {
   "cell_type": "markdown",
   "metadata": {
    "id": "Q3TgieCLCqgj"
   },
   "source": [
    "## chapter 2 measure of center"
   ]
  },
  {
   "cell_type": "code",
   "execution_count": 13,
   "metadata": {
    "colab": {
     "base_uri": "https://localhost:8080/"
    },
    "id": "cY0bzot_-Q16",
    "outputId": "779a4cb6-7626-4321-87f9-48051a4b927c"
   },
   "outputs": [
    {
     "name": "stdout",
     "output_type": "stream",
     "text": [
      "[1, 1, 1, 2, 2, 2, 2, 2, 3, 3, 3, 3, 3, 3, 4, 4, 4, 4, 4, 4, 4, 4, 4, 4, 4, 5, 5, 5, 5, 5, 5, 5]\n",
      "3.4375\n",
      "4.0\n"
     ]
    }
   ],
   "source": [
    "import numpy\n",
    "results = [5, 4, 3, 4, 5, 3, 2, 5, 3, 2, 1, 4, 5, 3, 4, 4, 5, 4, 2, 1,\n",
    "4, 5, 4, 3, 2, 4, 4, 5, 4, 3, 2, 1]\n",
    "sorted_results = sorted(results)\n",
    "print(sorted_results)\n",
    "print(numpy.mean(results)) #mean\n",
    "print(numpy.median(results)) #median"
   ]
  },
  {
   "cell_type": "markdown",
   "metadata": {
    "id": "WBQ2zBq8Cnsy"
   },
   "source": [
    "## chater 2 standard deviation"
   ]
  },
  {
   "cell_type": "code",
   "execution_count": 14,
   "metadata": {
    "colab": {
     "base_uri": "https://localhost:8080/"
    },
    "id": "-4aj55w5_XVF",
    "outputId": "7257626f-39ff-4ee5-f860-5f971a2bbe08"
   },
   "outputs": [
    {
     "name": "stdout",
     "output_type": "stream",
     "text": [
      "30.733333333333334\n",
      "31.0\n"
     ]
    }
   ],
   "source": [
    "import numpy\n",
    "temps = [31, 32, 32, 31, 28, 29, 31, 38, 32, 31, 30, 29, 30, 31, 26]\n",
    "print(numpy.mean(temps))\n",
    "print(numpy.median(temps))"
   ]
  },
  {
   "cell_type": "code",
   "execution_count": 15,
   "metadata": {
    "colab": {
     "base_uri": "https://localhost:8080/"
    },
    "id": "M24Np_yx_6Rr",
    "outputId": "4266bbd6-4316-42a5-9a5d-c69a3a411cde"
   },
   "outputs": [
    {
     "name": "stdout",
     "output_type": "stream",
     "text": [
      "2.5157283018817607\n"
     ]
    }
   ],
   "source": [
    "mean = numpy.mean(temps)\n",
    "squared_differences_list = []\n",
    "for temperature in temps:\n",
    "  difference = temperature - mean\n",
    "  squared_difference = difference**2\n",
    "  squared_differences_list.append(squared_difference)\n",
    "average_squared_difference = numpy.mean(squared_differences_list)\n",
    "standard_deviation = numpy.sqrt(average_squared_difference)\n",
    "print(standard_deviation) #standard deviation"
   ]
  },
  {
   "cell_type": "markdown",
   "metadata": {
    "id": "_G-MclRfCh7C"
   },
   "source": [
    "## chapter 2 measure of center geometric mean"
   ]
  },
  {
   "cell_type": "code",
   "execution_count": 16,
   "metadata": {
    "colab": {
     "base_uri": "https://localhost:8080/"
    },
    "id": "9MSWzsRpBHCf",
    "outputId": "a7d5fbc1-0e38-49fb-bdde-4681509724be"
   },
   "outputs": [
    {
     "name": "stdout",
     "output_type": "stream",
     "text": [
      "30.63473484374659\n"
     ]
    }
   ],
   "source": [
    "import numpy\n",
    "temps_two = [31, 32, 32, 31, 28, 29, 31, 38, 32, 31, 30, 29, 30, 31, 26]\n",
    "num_items = len(temps_two)\n",
    "product = 1\n",
    "for tmp in temps_two:\n",
    "  product *= tmp\n",
    "geometric_mean = product**(1.0/num_items)\n",
    "print(geometric_mean) #geometric mean"
   ]
  }
 ],
 "metadata": {
  "colab": {
   "collapsed_sections": [],
   "name": "05_assingment.ipynb",
   "provenance": []
  },
  "kernelspec": {
   "display_name": "Python 3 (ipykernel)",
   "language": "python",
   "name": "python3"
  },
  "language_info": {
   "codemirror_mode": {
    "name": "ipython",
    "version": 3
   },
   "file_extension": ".py",
   "mimetype": "text/x-python",
   "name": "python",
   "nbconvert_exporter": "python",
   "pygments_lexer": "ipython3",
   "version": "3.9.7"
  }
 },
 "nbformat": 4,
 "nbformat_minor": 4
}
